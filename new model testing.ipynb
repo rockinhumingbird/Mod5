{
 "cells": [
  {
   "cell_type": "code",
   "execution_count": 97,
   "metadata": {},
   "outputs": [],
   "source": [
    "import numpy as np\n",
    "import pandas as pd\n",
    "import seaborn as sns\n",
    "import matplotlib.pyplot as plt\n",
    "from sklearn.decomposition import PCA\n",
    "from sklearn.metrics import confusion_matrix\n",
    "from sklearn.ensemble import GradientBoostingClassifier\n",
    "from sklearn import svm\n",
    "from sklearn.ensemble import AdaBoostClassifier\n",
    "from sklearn.tree import DecisionTreeClassifier\n",
    "from sklearn.naive_bayes import GaussianNB \n",
    "from sklearn.metrics import f1_score\n",
    "plt.style.use('fivethirtyeight')"
   ]
  },
  {
   "cell_type": "code",
   "execution_count": 3,
   "metadata": {},
   "outputs": [],
   "source": [
    "from sklearn.tree import DecisionTreeClassifier \n"
   ]
  },
  {
   "cell_type": "code",
   "execution_count": 7,
   "metadata": {},
   "outputs": [],
   "source": [
    "df = pd.read_csv('youtubefinaladded.csv')"
   ]
  },
  {
   "cell_type": "code",
   "execution_count": 8,
   "metadata": {},
   "outputs": [
    {
     "data": {
      "text/html": [
       "<div>\n",
       "<style scoped>\n",
       "    .dataframe tbody tr th:only-of-type {\n",
       "        vertical-align: middle;\n",
       "    }\n",
       "\n",
       "    .dataframe tbody tr th {\n",
       "        vertical-align: top;\n",
       "    }\n",
       "\n",
       "    .dataframe thead th {\n",
       "        text-align: right;\n",
       "    }\n",
       "</style>\n",
       "<table border=\"1\" class=\"dataframe\">\n",
       "  <thead>\n",
       "    <tr style=\"text-align: right;\">\n",
       "      <th></th>\n",
       "      <th>Unnamed: 0</th>\n",
       "      <th>index</th>\n",
       "      <th>category_id</th>\n",
       "      <th>likes_log</th>\n",
       "      <th>views_log</th>\n",
       "      <th>dislikes_log</th>\n",
       "      <th>comment_log</th>\n",
       "      <th>title_wordcnt</th>\n",
       "      <th>tag_word_count</th>\n",
       "      <th>Unnamed: 0.1</th>\n",
       "      <th>...</th>\n",
       "      <th>went</th>\n",
       "      <th>white</th>\n",
       "      <th>wild</th>\n",
       "      <th>wired</th>\n",
       "      <th>without</th>\n",
       "      <th>world</th>\n",
       "      <th>wrong</th>\n",
       "      <th>year</th>\n",
       "      <th>years</th>\n",
       "      <th>young</th>\n",
       "    </tr>\n",
       "  </thead>\n",
       "  <tbody>\n",
       "    <tr>\n",
       "      <td>0</td>\n",
       "      <td>0</td>\n",
       "      <td>0</td>\n",
       "      <td>22.0</td>\n",
       "      <td>10.96</td>\n",
       "      <td>13.53</td>\n",
       "      <td>8.00</td>\n",
       "      <td>9.68</td>\n",
       "      <td>7</td>\n",
       "      <td>2</td>\n",
       "      <td>0</td>\n",
       "      <td>...</td>\n",
       "      <td>0.0</td>\n",
       "      <td>0.0</td>\n",
       "      <td>0.0</td>\n",
       "      <td>0.0</td>\n",
       "      <td>0.0</td>\n",
       "      <td>0.0</td>\n",
       "      <td>0.0</td>\n",
       "      <td>0.0</td>\n",
       "      <td>0.0</td>\n",
       "      <td>0.0</td>\n",
       "    </tr>\n",
       "    <tr>\n",
       "      <td>1</td>\n",
       "      <td>1</td>\n",
       "      <td>1</td>\n",
       "      <td>24.0</td>\n",
       "      <td>11.48</td>\n",
       "      <td>14.70</td>\n",
       "      <td>8.72</td>\n",
       "      <td>9.45</td>\n",
       "      <td>10</td>\n",
       "      <td>12</td>\n",
       "      <td>1</td>\n",
       "      <td>...</td>\n",
       "      <td>0.0</td>\n",
       "      <td>0.0</td>\n",
       "      <td>0.0</td>\n",
       "      <td>0.0</td>\n",
       "      <td>0.0</td>\n",
       "      <td>0.0</td>\n",
       "      <td>0.0</td>\n",
       "      <td>0.0</td>\n",
       "      <td>0.0</td>\n",
       "      <td>0.0</td>\n",
       "    </tr>\n",
       "    <tr>\n",
       "      <td>2</td>\n",
       "      <td>2</td>\n",
       "      <td>2</td>\n",
       "      <td>23.0</td>\n",
       "      <td>11.89</td>\n",
       "      <td>14.98</td>\n",
       "      <td>8.58</td>\n",
       "      <td>9.01</td>\n",
       "      <td>10</td>\n",
       "      <td>19</td>\n",
       "      <td>2</td>\n",
       "      <td>...</td>\n",
       "      <td>0.0</td>\n",
       "      <td>0.0</td>\n",
       "      <td>0.0</td>\n",
       "      <td>0.0</td>\n",
       "      <td>0.0</td>\n",
       "      <td>0.0</td>\n",
       "      <td>0.0</td>\n",
       "      <td>0.0</td>\n",
       "      <td>0.0</td>\n",
       "      <td>0.0</td>\n",
       "    </tr>\n",
       "    <tr>\n",
       "      <td>3</td>\n",
       "      <td>3</td>\n",
       "      <td>3</td>\n",
       "      <td>24.0</td>\n",
       "      <td>9.23</td>\n",
       "      <td>12.75</td>\n",
       "      <td>6.50</td>\n",
       "      <td>7.67</td>\n",
       "      <td>5</td>\n",
       "      <td>34</td>\n",
       "      <td>3</td>\n",
       "      <td>...</td>\n",
       "      <td>0.0</td>\n",
       "      <td>0.0</td>\n",
       "      <td>0.0</td>\n",
       "      <td>0.0</td>\n",
       "      <td>0.0</td>\n",
       "      <td>0.0</td>\n",
       "      <td>0.0</td>\n",
       "      <td>0.0</td>\n",
       "      <td>0.0</td>\n",
       "      <td>0.0</td>\n",
       "    </tr>\n",
       "    <tr>\n",
       "      <td>4</td>\n",
       "      <td>4</td>\n",
       "      <td>4</td>\n",
       "      <td>24.0</td>\n",
       "      <td>11.79</td>\n",
       "      <td>14.56</td>\n",
       "      <td>7.60</td>\n",
       "      <td>9.77</td>\n",
       "      <td>5</td>\n",
       "      <td>4</td>\n",
       "      <td>4</td>\n",
       "      <td>...</td>\n",
       "      <td>0.0</td>\n",
       "      <td>0.0</td>\n",
       "      <td>0.0</td>\n",
       "      <td>0.0</td>\n",
       "      <td>0.0</td>\n",
       "      <td>0.0</td>\n",
       "      <td>0.0</td>\n",
       "      <td>0.0</td>\n",
       "      <td>0.0</td>\n",
       "      <td>0.0</td>\n",
       "    </tr>\n",
       "    <tr>\n",
       "      <td>...</td>\n",
       "      <td>...</td>\n",
       "      <td>...</td>\n",
       "      <td>...</td>\n",
       "      <td>...</td>\n",
       "      <td>...</td>\n",
       "      <td>...</td>\n",
       "      <td>...</td>\n",
       "      <td>...</td>\n",
       "      <td>...</td>\n",
       "      <td>...</td>\n",
       "      <td>...</td>\n",
       "      <td>...</td>\n",
       "      <td>...</td>\n",
       "      <td>...</td>\n",
       "      <td>...</td>\n",
       "      <td>...</td>\n",
       "      <td>...</td>\n",
       "      <td>...</td>\n",
       "      <td>...</td>\n",
       "      <td>...</td>\n",
       "      <td>...</td>\n",
       "    </tr>\n",
       "    <tr>\n",
       "      <td>40856</td>\n",
       "      <td>40856</td>\n",
       "      <td>40856</td>\n",
       "      <td>15.0</td>\n",
       "      <td>10.55</td>\n",
       "      <td>14.34</td>\n",
       "      <td>7.23</td>\n",
       "      <td>7.89</td>\n",
       "      <td>6</td>\n",
       "      <td>3</td>\n",
       "      <td>40856</td>\n",
       "      <td>...</td>\n",
       "      <td>0.0</td>\n",
       "      <td>0.0</td>\n",
       "      <td>0.0</td>\n",
       "      <td>0.0</td>\n",
       "      <td>0.0</td>\n",
       "      <td>0.0</td>\n",
       "      <td>0.0</td>\n",
       "      <td>0.0</td>\n",
       "      <td>0.0</td>\n",
       "      <td>0.0</td>\n",
       "    </tr>\n",
       "    <tr>\n",
       "      <td>40857</td>\n",
       "      <td>40857</td>\n",
       "      <td>40857</td>\n",
       "      <td>22.0</td>\n",
       "      <td>11.00</td>\n",
       "      <td>13.88</td>\n",
       "      <td>5.95</td>\n",
       "      <td>8.28</td>\n",
       "      <td>5</td>\n",
       "      <td>1</td>\n",
       "      <td>40857</td>\n",
       "      <td>...</td>\n",
       "      <td>0.0</td>\n",
       "      <td>0.0</td>\n",
       "      <td>0.0</td>\n",
       "      <td>0.0</td>\n",
       "      <td>0.0</td>\n",
       "      <td>0.0</td>\n",
       "      <td>0.0</td>\n",
       "      <td>0.0</td>\n",
       "      <td>0.0</td>\n",
       "      <td>0.0</td>\n",
       "    </tr>\n",
       "    <tr>\n",
       "      <td>40858</td>\n",
       "      <td>40858</td>\n",
       "      <td>40858</td>\n",
       "      <td>24.0</td>\n",
       "      <td>10.78</td>\n",
       "      <td>13.88</td>\n",
       "      <td>6.94</td>\n",
       "      <td>8.29</td>\n",
       "      <td>14</td>\n",
       "      <td>51</td>\n",
       "      <td>40858</td>\n",
       "      <td>...</td>\n",
       "      <td>0.0</td>\n",
       "      <td>0.0</td>\n",
       "      <td>0.0</td>\n",
       "      <td>0.0</td>\n",
       "      <td>0.0</td>\n",
       "      <td>0.0</td>\n",
       "      <td>0.0</td>\n",
       "      <td>0.0</td>\n",
       "      <td>0.0</td>\n",
       "      <td>0.0</td>\n",
       "    </tr>\n",
       "    <tr>\n",
       "      <td>40859</td>\n",
       "      <td>40859</td>\n",
       "      <td>40859</td>\n",
       "      <td>1.0</td>\n",
       "      <td>12.17</td>\n",
       "      <td>15.55</td>\n",
       "      <td>7.95</td>\n",
       "      <td>9.48</td>\n",
       "      <td>6</td>\n",
       "      <td>15</td>\n",
       "      <td>40859</td>\n",
       "      <td>...</td>\n",
       "      <td>0.0</td>\n",
       "      <td>0.0</td>\n",
       "      <td>0.0</td>\n",
       "      <td>0.0</td>\n",
       "      <td>0.0</td>\n",
       "      <td>0.0</td>\n",
       "      <td>0.0</td>\n",
       "      <td>0.0</td>\n",
       "      <td>0.0</td>\n",
       "      <td>0.0</td>\n",
       "    </tr>\n",
       "    <tr>\n",
       "      <td>40860</td>\n",
       "      <td>40860</td>\n",
       "      <td>40860</td>\n",
       "      <td>20.0</td>\n",
       "      <td>12.79</td>\n",
       "      <td>16.15</td>\n",
       "      <td>12.27</td>\n",
       "      <td>11.88</td>\n",
       "      <td>11</td>\n",
       "      <td>5</td>\n",
       "      <td>40860</td>\n",
       "      <td>...</td>\n",
       "      <td>0.0</td>\n",
       "      <td>0.0</td>\n",
       "      <td>0.0</td>\n",
       "      <td>0.0</td>\n",
       "      <td>0.0</td>\n",
       "      <td>0.0</td>\n",
       "      <td>0.0</td>\n",
       "      <td>0.0</td>\n",
       "      <td>0.0</td>\n",
       "      <td>0.0</td>\n",
       "    </tr>\n",
       "  </tbody>\n",
       "</table>\n",
       "<p>40861 rows × 364 columns</p>\n",
       "</div>"
      ],
      "text/plain": [
       "       Unnamed: 0  index  category_id  likes_log  views_log  dislikes_log  \\\n",
       "0               0      0         22.0      10.96      13.53          8.00   \n",
       "1               1      1         24.0      11.48      14.70          8.72   \n",
       "2               2      2         23.0      11.89      14.98          8.58   \n",
       "3               3      3         24.0       9.23      12.75          6.50   \n",
       "4               4      4         24.0      11.79      14.56          7.60   \n",
       "...           ...    ...          ...        ...        ...           ...   \n",
       "40856       40856  40856         15.0      10.55      14.34          7.23   \n",
       "40857       40857  40857         22.0      11.00      13.88          5.95   \n",
       "40858       40858  40858         24.0      10.78      13.88          6.94   \n",
       "40859       40859  40859          1.0      12.17      15.55          7.95   \n",
       "40860       40860  40860         20.0      12.79      16.15         12.27   \n",
       "\n",
       "       comment_log  title_wordcnt  tag_word_count  Unnamed: 0.1  ...  went  \\\n",
       "0             9.68              7               2             0  ...   0.0   \n",
       "1             9.45             10              12             1  ...   0.0   \n",
       "2             9.01             10              19             2  ...   0.0   \n",
       "3             7.67              5              34             3  ...   0.0   \n",
       "4             9.77              5               4             4  ...   0.0   \n",
       "...            ...            ...             ...           ...  ...   ...   \n",
       "40856         7.89              6               3         40856  ...   0.0   \n",
       "40857         8.28              5               1         40857  ...   0.0   \n",
       "40858         8.29             14              51         40858  ...   0.0   \n",
       "40859         9.48              6              15         40859  ...   0.0   \n",
       "40860        11.88             11               5         40860  ...   0.0   \n",
       "\n",
       "       white  wild  wired  without  world  wrong  year  years  young  \n",
       "0        0.0   0.0    0.0      0.0    0.0    0.0   0.0    0.0    0.0  \n",
       "1        0.0   0.0    0.0      0.0    0.0    0.0   0.0    0.0    0.0  \n",
       "2        0.0   0.0    0.0      0.0    0.0    0.0   0.0    0.0    0.0  \n",
       "3        0.0   0.0    0.0      0.0    0.0    0.0   0.0    0.0    0.0  \n",
       "4        0.0   0.0    0.0      0.0    0.0    0.0   0.0    0.0    0.0  \n",
       "...      ...   ...    ...      ...    ...    ...   ...    ...    ...  \n",
       "40856    0.0   0.0    0.0      0.0    0.0    0.0   0.0    0.0    0.0  \n",
       "40857    0.0   0.0    0.0      0.0    0.0    0.0   0.0    0.0    0.0  \n",
       "40858    0.0   0.0    0.0      0.0    0.0    0.0   0.0    0.0    0.0  \n",
       "40859    0.0   0.0    0.0      0.0    0.0    0.0   0.0    0.0    0.0  \n",
       "40860    0.0   0.0    0.0      0.0    0.0    0.0   0.0    0.0    0.0  \n",
       "\n",
       "[40861 rows x 364 columns]"
      ]
     },
     "execution_count": 8,
     "metadata": {},
     "output_type": "execute_result"
    }
   ],
   "source": [
    "df"
   ]
  },
  {
   "cell_type": "code",
   "execution_count": 9,
   "metadata": {},
   "outputs": [],
   "source": [
    "df = df.drop(['index'],axis = 1)"
   ]
  },
  {
   "cell_type": "code",
   "execution_count": 10,
   "metadata": {},
   "outputs": [],
   "source": [
    "df = df.drop(['Unnamed: 0'],axis = 1) "
   ]
  },
  {
   "cell_type": "code",
   "execution_count": 11,
   "metadata": {},
   "outputs": [],
   "source": [
    "df = df.drop(['Unnamed: 0.1'],axis = 1)"
   ]
  },
  {
   "cell_type": "code",
   "execution_count": 7,
   "metadata": {},
   "outputs": [],
   "source": [
    "df = df.drop(['channel_title'],axis = 1)"
   ]
  },
  {
   "cell_type": "code",
   "execution_count": 8,
   "metadata": {},
   "outputs": [],
   "source": [
    "df['category_id'] = df['category_id'].astype(int)"
   ]
  },
  {
   "cell_type": "code",
   "execution_count": 9,
   "metadata": {},
   "outputs": [],
   "source": [
    "df = df.drop(['category_name'],axis = 1)"
   ]
  },
  {
   "cell_type": "code",
   "execution_count": 12,
   "metadata": {},
   "outputs": [
    {
     "data": {
      "text/html": [
       "<div>\n",
       "<style scoped>\n",
       "    .dataframe tbody tr th:only-of-type {\n",
       "        vertical-align: middle;\n",
       "    }\n",
       "\n",
       "    .dataframe tbody tr th {\n",
       "        vertical-align: top;\n",
       "    }\n",
       "\n",
       "    .dataframe thead th {\n",
       "        text-align: right;\n",
       "    }\n",
       "</style>\n",
       "<table border=\"1\" class=\"dataframe\">\n",
       "  <thead>\n",
       "    <tr style=\"text-align: right;\">\n",
       "      <th></th>\n",
       "      <th>category_id</th>\n",
       "      <th>likes_log</th>\n",
       "      <th>views_log</th>\n",
       "      <th>dislikes_log</th>\n",
       "      <th>comment_log</th>\n",
       "      <th>title_wordcnt</th>\n",
       "      <th>tag_word_count</th>\n",
       "      <th>acoustic</th>\n",
       "      <th>actually</th>\n",
       "      <th>ad</th>\n",
       "      <th>...</th>\n",
       "      <th>went</th>\n",
       "      <th>white</th>\n",
       "      <th>wild</th>\n",
       "      <th>wired</th>\n",
       "      <th>without</th>\n",
       "      <th>world</th>\n",
       "      <th>wrong</th>\n",
       "      <th>year</th>\n",
       "      <th>years</th>\n",
       "      <th>young</th>\n",
       "    </tr>\n",
       "  </thead>\n",
       "  <tbody>\n",
       "    <tr>\n",
       "      <td>0</td>\n",
       "      <td>22.0</td>\n",
       "      <td>10.96</td>\n",
       "      <td>13.53</td>\n",
       "      <td>8.00</td>\n",
       "      <td>9.68</td>\n",
       "      <td>7</td>\n",
       "      <td>2</td>\n",
       "      <td>0.0</td>\n",
       "      <td>0.0</td>\n",
       "      <td>0.0</td>\n",
       "      <td>...</td>\n",
       "      <td>0.0</td>\n",
       "      <td>0.0</td>\n",
       "      <td>0.0</td>\n",
       "      <td>0.0</td>\n",
       "      <td>0.0</td>\n",
       "      <td>0.0</td>\n",
       "      <td>0.0</td>\n",
       "      <td>0.0</td>\n",
       "      <td>0.0</td>\n",
       "      <td>0.0</td>\n",
       "    </tr>\n",
       "    <tr>\n",
       "      <td>1</td>\n",
       "      <td>24.0</td>\n",
       "      <td>11.48</td>\n",
       "      <td>14.70</td>\n",
       "      <td>8.72</td>\n",
       "      <td>9.45</td>\n",
       "      <td>10</td>\n",
       "      <td>12</td>\n",
       "      <td>0.0</td>\n",
       "      <td>0.0</td>\n",
       "      <td>0.0</td>\n",
       "      <td>...</td>\n",
       "      <td>0.0</td>\n",
       "      <td>0.0</td>\n",
       "      <td>0.0</td>\n",
       "      <td>0.0</td>\n",
       "      <td>0.0</td>\n",
       "      <td>0.0</td>\n",
       "      <td>0.0</td>\n",
       "      <td>0.0</td>\n",
       "      <td>0.0</td>\n",
       "      <td>0.0</td>\n",
       "    </tr>\n",
       "    <tr>\n",
       "      <td>2</td>\n",
       "      <td>23.0</td>\n",
       "      <td>11.89</td>\n",
       "      <td>14.98</td>\n",
       "      <td>8.58</td>\n",
       "      <td>9.01</td>\n",
       "      <td>10</td>\n",
       "      <td>19</td>\n",
       "      <td>0.0</td>\n",
       "      <td>0.0</td>\n",
       "      <td>0.0</td>\n",
       "      <td>...</td>\n",
       "      <td>0.0</td>\n",
       "      <td>0.0</td>\n",
       "      <td>0.0</td>\n",
       "      <td>0.0</td>\n",
       "      <td>0.0</td>\n",
       "      <td>0.0</td>\n",
       "      <td>0.0</td>\n",
       "      <td>0.0</td>\n",
       "      <td>0.0</td>\n",
       "      <td>0.0</td>\n",
       "    </tr>\n",
       "    <tr>\n",
       "      <td>3</td>\n",
       "      <td>24.0</td>\n",
       "      <td>9.23</td>\n",
       "      <td>12.75</td>\n",
       "      <td>6.50</td>\n",
       "      <td>7.67</td>\n",
       "      <td>5</td>\n",
       "      <td>34</td>\n",
       "      <td>0.0</td>\n",
       "      <td>0.0</td>\n",
       "      <td>0.0</td>\n",
       "      <td>...</td>\n",
       "      <td>0.0</td>\n",
       "      <td>0.0</td>\n",
       "      <td>0.0</td>\n",
       "      <td>0.0</td>\n",
       "      <td>0.0</td>\n",
       "      <td>0.0</td>\n",
       "      <td>0.0</td>\n",
       "      <td>0.0</td>\n",
       "      <td>0.0</td>\n",
       "      <td>0.0</td>\n",
       "    </tr>\n",
       "    <tr>\n",
       "      <td>4</td>\n",
       "      <td>24.0</td>\n",
       "      <td>11.79</td>\n",
       "      <td>14.56</td>\n",
       "      <td>7.60</td>\n",
       "      <td>9.77</td>\n",
       "      <td>5</td>\n",
       "      <td>4</td>\n",
       "      <td>0.0</td>\n",
       "      <td>0.0</td>\n",
       "      <td>0.0</td>\n",
       "      <td>...</td>\n",
       "      <td>0.0</td>\n",
       "      <td>0.0</td>\n",
       "      <td>0.0</td>\n",
       "      <td>0.0</td>\n",
       "      <td>0.0</td>\n",
       "      <td>0.0</td>\n",
       "      <td>0.0</td>\n",
       "      <td>0.0</td>\n",
       "      <td>0.0</td>\n",
       "      <td>0.0</td>\n",
       "    </tr>\n",
       "    <tr>\n",
       "      <td>...</td>\n",
       "      <td>...</td>\n",
       "      <td>...</td>\n",
       "      <td>...</td>\n",
       "      <td>...</td>\n",
       "      <td>...</td>\n",
       "      <td>...</td>\n",
       "      <td>...</td>\n",
       "      <td>...</td>\n",
       "      <td>...</td>\n",
       "      <td>...</td>\n",
       "      <td>...</td>\n",
       "      <td>...</td>\n",
       "      <td>...</td>\n",
       "      <td>...</td>\n",
       "      <td>...</td>\n",
       "      <td>...</td>\n",
       "      <td>...</td>\n",
       "      <td>...</td>\n",
       "      <td>...</td>\n",
       "      <td>...</td>\n",
       "      <td>...</td>\n",
       "    </tr>\n",
       "    <tr>\n",
       "      <td>40856</td>\n",
       "      <td>15.0</td>\n",
       "      <td>10.55</td>\n",
       "      <td>14.34</td>\n",
       "      <td>7.23</td>\n",
       "      <td>7.89</td>\n",
       "      <td>6</td>\n",
       "      <td>3</td>\n",
       "      <td>0.0</td>\n",
       "      <td>0.0</td>\n",
       "      <td>0.0</td>\n",
       "      <td>...</td>\n",
       "      <td>0.0</td>\n",
       "      <td>0.0</td>\n",
       "      <td>0.0</td>\n",
       "      <td>0.0</td>\n",
       "      <td>0.0</td>\n",
       "      <td>0.0</td>\n",
       "      <td>0.0</td>\n",
       "      <td>0.0</td>\n",
       "      <td>0.0</td>\n",
       "      <td>0.0</td>\n",
       "    </tr>\n",
       "    <tr>\n",
       "      <td>40857</td>\n",
       "      <td>22.0</td>\n",
       "      <td>11.00</td>\n",
       "      <td>13.88</td>\n",
       "      <td>5.95</td>\n",
       "      <td>8.28</td>\n",
       "      <td>5</td>\n",
       "      <td>1</td>\n",
       "      <td>0.0</td>\n",
       "      <td>0.0</td>\n",
       "      <td>0.0</td>\n",
       "      <td>...</td>\n",
       "      <td>0.0</td>\n",
       "      <td>0.0</td>\n",
       "      <td>0.0</td>\n",
       "      <td>0.0</td>\n",
       "      <td>0.0</td>\n",
       "      <td>0.0</td>\n",
       "      <td>0.0</td>\n",
       "      <td>0.0</td>\n",
       "      <td>0.0</td>\n",
       "      <td>0.0</td>\n",
       "    </tr>\n",
       "    <tr>\n",
       "      <td>40858</td>\n",
       "      <td>24.0</td>\n",
       "      <td>10.78</td>\n",
       "      <td>13.88</td>\n",
       "      <td>6.94</td>\n",
       "      <td>8.29</td>\n",
       "      <td>14</td>\n",
       "      <td>51</td>\n",
       "      <td>0.0</td>\n",
       "      <td>0.0</td>\n",
       "      <td>0.0</td>\n",
       "      <td>...</td>\n",
       "      <td>0.0</td>\n",
       "      <td>0.0</td>\n",
       "      <td>0.0</td>\n",
       "      <td>0.0</td>\n",
       "      <td>0.0</td>\n",
       "      <td>0.0</td>\n",
       "      <td>0.0</td>\n",
       "      <td>0.0</td>\n",
       "      <td>0.0</td>\n",
       "      <td>0.0</td>\n",
       "    </tr>\n",
       "    <tr>\n",
       "      <td>40859</td>\n",
       "      <td>1.0</td>\n",
       "      <td>12.17</td>\n",
       "      <td>15.55</td>\n",
       "      <td>7.95</td>\n",
       "      <td>9.48</td>\n",
       "      <td>6</td>\n",
       "      <td>15</td>\n",
       "      <td>0.0</td>\n",
       "      <td>0.0</td>\n",
       "      <td>0.0</td>\n",
       "      <td>...</td>\n",
       "      <td>0.0</td>\n",
       "      <td>0.0</td>\n",
       "      <td>0.0</td>\n",
       "      <td>0.0</td>\n",
       "      <td>0.0</td>\n",
       "      <td>0.0</td>\n",
       "      <td>0.0</td>\n",
       "      <td>0.0</td>\n",
       "      <td>0.0</td>\n",
       "      <td>0.0</td>\n",
       "    </tr>\n",
       "    <tr>\n",
       "      <td>40860</td>\n",
       "      <td>20.0</td>\n",
       "      <td>12.79</td>\n",
       "      <td>16.15</td>\n",
       "      <td>12.27</td>\n",
       "      <td>11.88</td>\n",
       "      <td>11</td>\n",
       "      <td>5</td>\n",
       "      <td>0.0</td>\n",
       "      <td>0.0</td>\n",
       "      <td>0.0</td>\n",
       "      <td>...</td>\n",
       "      <td>0.0</td>\n",
       "      <td>0.0</td>\n",
       "      <td>0.0</td>\n",
       "      <td>0.0</td>\n",
       "      <td>0.0</td>\n",
       "      <td>0.0</td>\n",
       "      <td>0.0</td>\n",
       "      <td>0.0</td>\n",
       "      <td>0.0</td>\n",
       "      <td>0.0</td>\n",
       "    </tr>\n",
       "  </tbody>\n",
       "</table>\n",
       "<p>40861 rows × 361 columns</p>\n",
       "</div>"
      ],
      "text/plain": [
       "       category_id  likes_log  views_log  dislikes_log  comment_log  \\\n",
       "0             22.0      10.96      13.53          8.00         9.68   \n",
       "1             24.0      11.48      14.70          8.72         9.45   \n",
       "2             23.0      11.89      14.98          8.58         9.01   \n",
       "3             24.0       9.23      12.75          6.50         7.67   \n",
       "4             24.0      11.79      14.56          7.60         9.77   \n",
       "...            ...        ...        ...           ...          ...   \n",
       "40856         15.0      10.55      14.34          7.23         7.89   \n",
       "40857         22.0      11.00      13.88          5.95         8.28   \n",
       "40858         24.0      10.78      13.88          6.94         8.29   \n",
       "40859          1.0      12.17      15.55          7.95         9.48   \n",
       "40860         20.0      12.79      16.15         12.27        11.88   \n",
       "\n",
       "       title_wordcnt  tag_word_count  acoustic  actually   ad  ...  went  \\\n",
       "0                  7               2       0.0       0.0  0.0  ...   0.0   \n",
       "1                 10              12       0.0       0.0  0.0  ...   0.0   \n",
       "2                 10              19       0.0       0.0  0.0  ...   0.0   \n",
       "3                  5              34       0.0       0.0  0.0  ...   0.0   \n",
       "4                  5               4       0.0       0.0  0.0  ...   0.0   \n",
       "...              ...             ...       ...       ...  ...  ...   ...   \n",
       "40856              6               3       0.0       0.0  0.0  ...   0.0   \n",
       "40857              5               1       0.0       0.0  0.0  ...   0.0   \n",
       "40858             14              51       0.0       0.0  0.0  ...   0.0   \n",
       "40859              6              15       0.0       0.0  0.0  ...   0.0   \n",
       "40860             11               5       0.0       0.0  0.0  ...   0.0   \n",
       "\n",
       "       white  wild  wired  without  world  wrong  year  years  young  \n",
       "0        0.0   0.0    0.0      0.0    0.0    0.0   0.0    0.0    0.0  \n",
       "1        0.0   0.0    0.0      0.0    0.0    0.0   0.0    0.0    0.0  \n",
       "2        0.0   0.0    0.0      0.0    0.0    0.0   0.0    0.0    0.0  \n",
       "3        0.0   0.0    0.0      0.0    0.0    0.0   0.0    0.0    0.0  \n",
       "4        0.0   0.0    0.0      0.0    0.0    0.0   0.0    0.0    0.0  \n",
       "...      ...   ...    ...      ...    ...    ...   ...    ...    ...  \n",
       "40856    0.0   0.0    0.0      0.0    0.0    0.0   0.0    0.0    0.0  \n",
       "40857    0.0   0.0    0.0      0.0    0.0    0.0   0.0    0.0    0.0  \n",
       "40858    0.0   0.0    0.0      0.0    0.0    0.0   0.0    0.0    0.0  \n",
       "40859    0.0   0.0    0.0      0.0    0.0    0.0   0.0    0.0    0.0  \n",
       "40860    0.0   0.0    0.0      0.0    0.0    0.0   0.0    0.0    0.0  \n",
       "\n",
       "[40861 rows x 361 columns]"
      ]
     },
     "execution_count": 12,
     "metadata": {},
     "output_type": "execute_result"
    }
   ],
   "source": [
    "df"
   ]
  },
  {
   "cell_type": "code",
   "execution_count": 13,
   "metadata": {},
   "outputs": [],
   "source": [
    "x = df.drop('category_id', axis=1)\n",
    "y = df.category_id"
   ]
  },
  {
   "cell_type": "code",
   "execution_count": null,
   "metadata": {},
   "outputs": [],
   "source": [
    "## Baseline Model"
   ]
  },
  {
   "cell_type": "code",
   "execution_count": 94,
   "metadata": {},
   "outputs": [],
   "source": [
    "import numpy as np\n",
    "from sklearn.dummy import DummyClassifier\n",
    "start = time.time()\n",
    "\n",
    "dummy_clf = DummyClassifier(strategy=\"most_frequent\")\n",
    "dummy_clf.fit(x_test, y_test)\n",
    "DummyClassifier(strategy='most_frequent')\n",
    "dummy_clf.score(x_test, y_test)\n",
    "baseline_runtime = time.time() - start\n"
   ]
  },
  {
   "cell_type": "code",
   "execution_count": 95,
   "metadata": {},
   "outputs": [],
   "source": [
    "dummypred = dummy_clf.predict(x_test)\n"
   ]
  },
  {
   "cell_type": "code",
   "execution_count": 96,
   "metadata": {
    "scrolled": true
   },
   "outputs": [
    {
     "name": "stderr",
     "output_type": "stream",
     "text": [
      "/Users/zoe/anaconda3/lib/python3.7/site-packages/sklearn/metrics/classification.py:1437: UndefinedMetricWarning: Precision is ill-defined and being set to 0.0 in labels with no predicted samples.\n",
      "/Users/zoe/anaconda3/lib/python3.7/site-packages/sklearn/metrics/classification.py:1437: UndefinedMetricWarning: F-score is ill-defined and being set to 0.0 in labels with no predicted samples.\n"
     ]
    }
   ],
   "source": [
    "a0 = evaluate(y_test, dummypred, 'Baseline')"
   ]
  },
  {
   "cell_type": "code",
   "execution_count": 220,
   "metadata": {},
   "outputs": [],
   "source": [
    "unique_words = list(x.columns.values)"
   ]
  },
  {
   "cell_type": "code",
   "execution_count": 16,
   "metadata": {},
   "outputs": [],
   "source": [
    "pca2 = PCA(n_components=5)\n",
    "pca2.fit(x)\n",
    "x2_pca = pca2.transform(x)\n",
    "x2_pca = pd.DataFrame(x2_pca)\n",
    "\n",
    "pca3 = PCA(n_components=6)\n",
    "pca3.fit(x)\n",
    "x3_pca = pca3.transform(x)\n",
    "x3_pca = pd.DataFrame(x3_pca)"
   ]
  },
  {
   "cell_type": "code",
   "execution_count": 17,
   "metadata": {},
   "outputs": [
    {
     "data": {
      "text/plain": [
       "array([200.97183513,  14.28562887,  10.29929857,   0.95261437,\n",
       "         0.64505752])"
      ]
     },
     "execution_count": 17,
     "metadata": {},
     "output_type": "execute_result"
    }
   ],
   "source": [
    "pca2.explained_variance_"
   ]
  },
  {
   "cell_type": "code",
   "execution_count": 18,
   "metadata": {},
   "outputs": [
    {
     "data": {
      "text/plain": [
       "array([200.97183513,  14.28562887,  10.29929857,   0.95261437,\n",
       "         0.64505752,   0.40034893])"
      ]
     },
     "execution_count": 18,
     "metadata": {},
     "output_type": "execute_result"
    }
   ],
   "source": [
    "pca3.explained_variance_"
   ]
  },
  {
   "cell_type": "code",
   "execution_count": 19,
   "metadata": {},
   "outputs": [
    {
     "data": {
      "text/plain": [
       "<matplotlib.collections.PathCollection at 0x1a25ac7080>"
      ]
     },
     "execution_count": 19,
     "metadata": {},
     "output_type": "execute_result"
    },
    {
     "data": {
      "image/png": "[encoded data removed]",
      "text/plain": [
       "<Figure size 432x288 with 1 Axes>"
      ]
     },
     "metadata": {
      "needs_background": "light"
     },
     "output_type": "display_data"
    }
   ],
   "source": [
    "import matplotlib.pyplot as plt\n",
    "%matplotlib inline\n",
    "plt.scatter(x2_pca[0][:21000], x2_pca[1][:21000], s=1.5, alpha = 0.5, c = 'red')\n",
    "plt.scatter(x2_pca[0][21001:], x2_pca[1][21001:], s=1.5, alpha = 0.5, c = 'blue')"
   ]
  },
  {
   "cell_type": "code",
   "execution_count": 20,
   "metadata": {},
   "outputs": [],
   "source": [
    "import time\n",
    "from sklearn.model_selection import train_test_split\n",
    "from sklearn.metrics import precision_score, recall_score, accuracy_score, f1_score"
   ]
  },
  {
   "cell_type": "code",
   "execution_count": 21,
   "metadata": {},
   "outputs": [],
   "source": [
    "x_train, x_test, y_train, y_test = train_test_split(x, y, test_size = 0.2, random_state = 21)"
   ]
  },
  {
   "cell_type": "code",
   "execution_count": 29,
   "metadata": {},
   "outputs": [],
   "source": [
    "results = pd.DataFrame()"
   ]
  },
  {
   "cell_type": "code",
   "execution_count": 27,
   "metadata": {},
   "outputs": [],
   "source": [
    "def evaluate(test, pred, model):\n",
    "    return [model, \n",
    "            precision_score(test, pred, average = 'weighted'), \n",
    "            recall_score(test, pred,average = 'weighted'), \n",
    "            accuracy_score(test, pred), \n",
    "            f1_score(test, pred, average = 'weighted')]"
   ]
  },
  {
   "cell_type": "code",
   "execution_count": 28,
   "metadata": {},
   "outputs": [],
   "source": [
    "def print_accuracy_indices(labels, preds):\n",
    "    print(\"Precision Score: {}\".format(precision_score(labels, preds, average = 'weighted')))\n",
    "    print(\"Recall Score: {}\".format(recall_score(labels, preds, average = 'weighted')))\n",
    "    print(\"Accuracy Score: {}\".format(accuracy_score(labels, preds)))\n",
    "    print(\"F1 Score: {}\".format(f1_score(labels, preds, average = 'weighted')))"
   ]
  },
  {
   "cell_type": "markdown",
   "metadata": {},
   "source": [
    "# K-Nearest Neighbors"
   ]
  },
  {
   "cell_type": "code",
   "execution_count": 22,
   "metadata": {},
   "outputs": [
    {
     "name": "stdout",
     "output_type": "stream",
     "text": [
      "0.8255230637464823\n"
     ]
    }
   ],
   "source": [
    "from sklearn.neighbors import KNeighborsClassifier \n",
    "knn = KNeighborsClassifier(n_neighbors = 7).fit(x_train, y_train) \n",
    "  \n",
    "# accuracy on X_test \n",
    "accuracy = knn.score(x_test, y_test) \n",
    "print (accuracy) \n",
    "  \n",
    "# creating a confusion matrix \n",
    "knn_predictions = knn.predict(x_test)  "
   ]
  },
  {
   "cell_type": "code",
   "execution_count": 151,
   "metadata": {},
   "outputs": [],
   "source": [
    "def find_best_k(X_train, y_train, X_test, y_test, min_k=1, max_k=25):\n",
    "    best_k = 0\n",
    "    best_score = 0.0\n",
    "    for k in range(min_k, max_k+1, 16):\n",
    "        knn = KNeighborsClassifier(n_neighbors=k)\n",
    "        knn.fit(X_train, y_train)\n",
    "        preds = knn.predict(X_test)\n",
    "        f1 = f1_score(y_test, preds, average='weighted')\n",
    "        if f1 > best_score:\n",
    "            best_k = k\n",
    "            best_score = f1\n",
    "    \n",
    "    print(\"Best Value for k: {}\".format(best_k))\n",
    "    print(\"F1-Score: {}\".format(best_score))"
   ]
  },
  {
   "cell_type": "code",
   "execution_count": 152,
   "metadata": {
    "scrolled": true
   },
   "outputs": [
    {
     "name": "stdout",
     "output_type": "stream",
     "text": [
      "Best Value for k: 1\n",
      "F1-Score: 0.9078596503416098\n"
     ]
    }
   ],
   "source": [
    "find_best_k(x_train, y_train, x_test, y_test, min_k=1, max_k=25)"
   ]
  },
  {
   "cell_type": "code",
   "execution_count": 30,
   "metadata": {},
   "outputs": [],
   "source": [
    "a = evaluate(y_test, knn_predictions, 'K Nearest Neighbors')"
   ]
  },
  {
   "cell_type": "markdown",
   "metadata": {},
   "source": [
    "##### Best K is 1 for KNN model"
   ]
  },
  {
   "cell_type": "code",
   "execution_count": 71,
   "metadata": {},
   "outputs": [],
   "source": [
    "start = time.time()\n",
    "knn_classifier = KNeighborsClassifier(n_neighbors=1)\n",
    "knn_classifier.fit(x_train, y_train)\n",
    "knn_runtime = time.time() - start"
   ]
  },
  {
   "cell_type": "code",
   "execution_count": 23,
   "metadata": {},
   "outputs": [
    {
     "name": "stdout",
     "output_type": "stream",
     "text": [
      "Precision Score: 0.9087968860111894\n",
      "Recall Score: 0.9075003058852319\n",
      "Accuracy Score: 0.9075003058852319\n",
      "F1 Score: 0.9078596503416096\n"
     ]
    }
   ],
   "source": [
    "knn_pred = knn_classifier.predict(x_test)\n",
    "print_accuracy_indices(y_test, knn_pred)"
   ]
  },
  {
   "cell_type": "markdown",
   "metadata": {},
   "source": [
    "## Random Forest"
   ]
  },
  {
   "cell_type": "code",
   "execution_count": 23,
   "metadata": {
    "scrolled": false
   },
   "outputs": [
    {
     "data": {
      "text/plain": [
       "RandomForestClassifier(bootstrap=True, class_weight=None, criterion='entropy',\n",
       "                       max_depth=None, max_features='auto', max_leaf_nodes=None,\n",
       "                       min_impurity_decrease=0.0, min_impurity_split=None,\n",
       "                       min_samples_leaf=1, min_samples_split=2,\n",
       "                       min_weight_fraction_leaf=0.0, n_estimators=10,\n",
       "                       n_jobs=None, oob_score=False, random_state=42, verbose=0,\n",
       "                       warm_start=False)"
      ]
     },
     "execution_count": 23,
     "metadata": {},
     "output_type": "execute_result"
    }
   ],
   "source": [
    "from sklearn.ensemble import BaggingClassifier,RandomForestClassifier\n",
    "rfclassifier = RandomForestClassifier(n_estimators = 10, criterion = 'entropy', random_state = 42)\n",
    "rfclassifier.fit(x_train, y_train)"
   ]
  },
  {
   "cell_type": "code",
   "execution_count": 24,
   "metadata": {
    "scrolled": true
   },
   "outputs": [
    {
     "name": "stdout",
     "output_type": "stream",
     "text": [
      "Predicted  1.0   2.0   10.0  15.0  17.0  19.0  20.0  22.0  23.0  24.0  25.0  \\\n",
      "Actual                                                                        \n",
      "1.0         492     0     2     1     0     1     0     1     0    10     1   \n",
      "2.0           0    74     1     0     0     0     0     2     1     6     0   \n",
      "10.0          2     0  1229     0     1     0     0     4     3    10     2   \n",
      "15.0          1     0     0   157     1     0     0     1     4     8     0   \n",
      "17.0          4     0     1     0   390     0     0     1     0     5     3   \n",
      "19.0          1     1     0     0     0    64     0     1     1     1     3   \n",
      "20.0          0     0     3     0     0     0   157     1     1     3     0   \n",
      "22.0          1     0    12     1     5     0     0   581     7    13     2   \n",
      "23.0          0     0    11     0     1     0     0     7   653    25     0   \n",
      "24.0          4     0    18     0     7     2     0     8    17  1931    10   \n",
      "25.0          0     1     5     1     1     0     0     0     5    18   462   \n",
      "26.0          0     0     5     2     0     1     0     7     2    23     1   \n",
      "27.0          3     0     3     0     1     0     0     5     4     4     0   \n",
      "28.0          2     1     4     1     3     2     0     7     2    23     3   \n",
      "29.0          0     0     1     0     0     0     0     0     0     1     0   \n",
      "43.0          0     0     0     0     0     0     0     0     0     0     0   \n",
      "\n",
      "Predicted  26.0  27.0  28.0  29.0  43.0  \n",
      "Actual                                   \n",
      "1.0           1     0     1     0     0  \n",
      "2.0           0     0     0     0     0  \n",
      "10.0          3     2     2     1     0  \n",
      "15.0          1     1     0     0     0  \n",
      "17.0          3     1     2     0     0  \n",
      "19.0          1     0     2     0     0  \n",
      "20.0          0     0     0     0     0  \n",
      "22.0          0     1     1     0     0  \n",
      "23.0          4     6     3     0     0  \n",
      "24.0         12     4     3     0     0  \n",
      "25.0          1     3     0     0     0  \n",
      "26.0        768     2     0     0     0  \n",
      "27.0          3   286     3     0     0  \n",
      "28.0          3     2   450     0     0  \n",
      "29.0          0     1     0    11     0  \n",
      "43.0          0     0     0     0     9  \n"
     ]
    }
   ],
   "source": [
    "# Predicting the Test set results\n",
    "rfy_pred = rfclassifier.predict(x_test)\n",
    "# Making the Confusion Matrix\n",
    "print(pd.crosstab(y_test, rfy_pred, rownames=['Actual'], colnames=['Predicted']))"
   ]
  },
  {
   "cell_type": "code",
   "execution_count": 25,
   "metadata": {},
   "outputs": [],
   "source": [
    "start = time.time()\n",
    "rfclassifier = RandomForestClassifier(n_estimators=100)\n",
    "rfclassifier.fit(x_train, y_train)\n",
    "rf_runtime = time.time() - start"
   ]
  },
  {
   "cell_type": "code",
   "execution_count": 35,
   "metadata": {},
   "outputs": [],
   "source": [
    "rf_pred = rfclassifier.predict(x_test)  "
   ]
  },
  {
   "cell_type": "code",
   "execution_count": 31,
   "metadata": {},
   "outputs": [],
   "source": [
    "feature_importances = pd.DataFrame(rfclassifier.feature_importances_,\n",
    "                                   index = x.columns,\n",
    "                                columns=['importance']).sort_values('importance', ascending=False)"
   ]
  },
  {
   "cell_type": "code",
   "execution_count": 32,
   "metadata": {
    "scrolled": true
   },
   "outputs": [
    {
     "data": {
      "text/html": [
       "<div>\n",
       "<style scoped>\n",
       "    .dataframe tbody tr th:only-of-type {\n",
       "        vertical-align: middle;\n",
       "    }\n",
       "\n",
       "    .dataframe tbody tr th {\n",
       "        vertical-align: top;\n",
       "    }\n",
       "\n",
       "    .dataframe thead th {\n",
       "        text-align: right;\n",
       "    }\n",
       "</style>\n",
       "<table border=\"1\" class=\"dataframe\">\n",
       "  <thead>\n",
       "    <tr style=\"text-align: right;\">\n",
       "      <th></th>\n",
       "      <th>importance</th>\n",
       "    </tr>\n",
       "  </thead>\n",
       "  <tbody>\n",
       "    <tr>\n",
       "      <td>likes_log</td>\n",
       "      <td>0.081543</td>\n",
       "    </tr>\n",
       "    <tr>\n",
       "      <td>comment_log</td>\n",
       "      <td>0.073102</td>\n",
       "    </tr>\n",
       "    <tr>\n",
       "      <td>tag_word_count</td>\n",
       "      <td>0.071148</td>\n",
       "    </tr>\n",
       "    <tr>\n",
       "      <td>dislikes_log</td>\n",
       "      <td>0.066801</td>\n",
       "    </tr>\n",
       "    <tr>\n",
       "      <td>views_log</td>\n",
       "      <td>0.066686</td>\n",
       "    </tr>\n",
       "    <tr>\n",
       "      <td>title_wordcnt</td>\n",
       "      <td>0.057890</td>\n",
       "    </tr>\n",
       "    <tr>\n",
       "      <td>video</td>\n",
       "      <td>0.021599</td>\n",
       "    </tr>\n",
       "    <tr>\n",
       "      <td>official</td>\n",
       "      <td>0.017681</td>\n",
       "    </tr>\n",
       "    <tr>\n",
       "      <td>audio</td>\n",
       "      <td>0.012817</td>\n",
       "    </tr>\n",
       "    <tr>\n",
       "      <td>trailer</td>\n",
       "      <td>0.012615</td>\n",
       "    </tr>\n",
       "    <tr>\n",
       "      <td>makeup</td>\n",
       "      <td>0.009135</td>\n",
       "    </tr>\n",
       "    <tr>\n",
       "      <td>ft</td>\n",
       "      <td>0.007052</td>\n",
       "    </tr>\n",
       "    <tr>\n",
       "      <td>vs</td>\n",
       "      <td>0.006974</td>\n",
       "    </tr>\n",
       "    <tr>\n",
       "      <td>new</td>\n",
       "      <td>0.006164</td>\n",
       "    </tr>\n",
       "    <tr>\n",
       "      <td>live</td>\n",
       "      <td>0.005458</td>\n",
       "    </tr>\n",
       "    <tr>\n",
       "      <td>cat</td>\n",
       "      <td>0.005090</td>\n",
       "    </tr>\n",
       "    <tr>\n",
       "      <td>lyric</td>\n",
       "      <td>0.005068</td>\n",
       "    </tr>\n",
       "    <tr>\n",
       "      <td>make</td>\n",
       "      <td>0.004987</td>\n",
       "    </tr>\n",
       "    <tr>\n",
       "      <td>highlights</td>\n",
       "      <td>0.004919</td>\n",
       "    </tr>\n",
       "    <tr>\n",
       "      <td>challenge</td>\n",
       "      <td>0.004711</td>\n",
       "    </tr>\n",
       "  </tbody>\n",
       "</table>\n",
       "</div>"
      ],
      "text/plain": [
       "                importance\n",
       "likes_log         0.081543\n",
       "comment_log       0.073102\n",
       "tag_word_count    0.071148\n",
       "dislikes_log      0.066801\n",
       "views_log         0.066686\n",
       "title_wordcnt     0.057890\n",
       "video             0.021599\n",
       "official          0.017681\n",
       "audio             0.012817\n",
       "trailer           0.012615\n",
       "makeup            0.009135\n",
       "ft                0.007052\n",
       "vs                0.006974\n",
       "new               0.006164\n",
       "live              0.005458\n",
       "cat               0.005090\n",
       "lyric             0.005068\n",
       "make              0.004987\n",
       "highlights        0.004919\n",
       "challenge         0.004711"
      ]
     },
     "execution_count": 32,
     "metadata": {},
     "output_type": "execute_result"
    }
   ],
   "source": [
    "feature_importances.head(20)"
   ]
  },
  {
   "cell_type": "code",
   "execution_count": null,
   "metadata": {},
   "outputs": [],
   "source": [
    "sns.set(rc={'figure.figsize':(11,8)})\n",
    "sns.stripplot(x=\"continent\", y=\"HappinessScore\", data=df, jitter=True)\n",
    "plt.xticks(rotation=45, size = 25)\n",
    "plt.yticks(size =25)\n",
    "plt.ylabel(ylabel = 'Happiness Score', size =25)\n",
    "plt.xlabel(xlabel = 'Continents', size =25)"
   ]
  },
  {
   "cell_type": "code",
   "execution_count": 36,
   "metadata": {},
   "outputs": [],
   "source": [
    "b = evaluate(y_test, rf_pred, \"Random Forest\")"
   ]
  },
  {
   "cell_type": "markdown",
   "metadata": {},
   "source": [
    "# Adaptaive Boosting Tree"
   ]
  },
  {
   "cell_type": "code",
   "execution_count": 39,
   "metadata": {},
   "outputs": [
    {
     "name": "stdout",
     "output_type": "stream",
     "text": [
      "Precision Score: 0.23813675464380757\n",
      "Recall Score: 0.30001223540927446\n",
      "Accuracy Score: 0.30001223540927446\n",
      "F1 Score: 0.18297924604238197\n"
     ]
    },
    {
     "name": "stderr",
     "output_type": "stream",
     "text": [
      "/Users/zoe/anaconda3/lib/python3.7/site-packages/sklearn/metrics/classification.py:1437: UndefinedMetricWarning: Precision is ill-defined and being set to 0.0 in labels with no predicted samples.\n",
      "  'precision', 'predicted', average, warn_for)\n",
      "/Users/zoe/anaconda3/lib/python3.7/site-packages/sklearn/metrics/classification.py:1437: UndefinedMetricWarning: F-score is ill-defined and being set to 0.0 in labels with no predicted samples.\n",
      "  'precision', 'predicted', average, warn_for)\n"
     ]
    }
   ],
   "source": [
    "start = time.time()\n",
    "adaboost_clf = AdaBoostClassifier()\n",
    "adaboost_clf.fit(x_train, y_train)\n",
    "ab_runtime = time.time() - start\n",
    "ab_pred = adaboost_clf.predict(x_test)\n",
    "print_accuracy_indices(y_test, ab_pred)"
   ]
  },
  {
   "cell_type": "code",
   "execution_count": 33,
   "metadata": {},
   "outputs": [
    {
     "data": {
      "text/html": [
       "<div>\n",
       "<style scoped>\n",
       "    .dataframe tbody tr th:only-of-type {\n",
       "        vertical-align: middle;\n",
       "    }\n",
       "\n",
       "    .dataframe tbody tr th {\n",
       "        vertical-align: top;\n",
       "    }\n",
       "\n",
       "    .dataframe thead th {\n",
       "        text-align: right;\n",
       "    }\n",
       "</style>\n",
       "<table border=\"1\" class=\"dataframe\">\n",
       "  <thead>\n",
       "    <tr style=\"text-align: right;\">\n",
       "      <th>Predicted</th>\n",
       "      <th>1</th>\n",
       "      <th>10</th>\n",
       "      <th>17</th>\n",
       "      <th>24</th>\n",
       "      <th>All</th>\n",
       "    </tr>\n",
       "    <tr>\n",
       "      <th>True</th>\n",
       "      <th></th>\n",
       "      <th></th>\n",
       "      <th></th>\n",
       "      <th></th>\n",
       "      <th></th>\n",
       "    </tr>\n",
       "  </thead>\n",
       "  <tbody>\n",
       "    <tr>\n",
       "      <td>1</td>\n",
       "      <td>4</td>\n",
       "      <td>13</td>\n",
       "      <td>0</td>\n",
       "      <td>493</td>\n",
       "      <td>510</td>\n",
       "    </tr>\n",
       "    <tr>\n",
       "      <td>2</td>\n",
       "      <td>0</td>\n",
       "      <td>0</td>\n",
       "      <td>1</td>\n",
       "      <td>83</td>\n",
       "      <td>84</td>\n",
       "    </tr>\n",
       "    <tr>\n",
       "      <td>10</td>\n",
       "      <td>0</td>\n",
       "      <td>441</td>\n",
       "      <td>6</td>\n",
       "      <td>812</td>\n",
       "      <td>1259</td>\n",
       "    </tr>\n",
       "    <tr>\n",
       "      <td>15</td>\n",
       "      <td>0</td>\n",
       "      <td>4</td>\n",
       "      <td>0</td>\n",
       "      <td>170</td>\n",
       "      <td>174</td>\n",
       "    </tr>\n",
       "    <tr>\n",
       "      <td>17</td>\n",
       "      <td>0</td>\n",
       "      <td>0</td>\n",
       "      <td>21</td>\n",
       "      <td>389</td>\n",
       "      <td>410</td>\n",
       "    </tr>\n",
       "    <tr>\n",
       "      <td>19</td>\n",
       "      <td>0</td>\n",
       "      <td>1</td>\n",
       "      <td>2</td>\n",
       "      <td>72</td>\n",
       "      <td>75</td>\n",
       "    </tr>\n",
       "    <tr>\n",
       "      <td>20</td>\n",
       "      <td>0</td>\n",
       "      <td>2</td>\n",
       "      <td>8</td>\n",
       "      <td>155</td>\n",
       "      <td>165</td>\n",
       "    </tr>\n",
       "    <tr>\n",
       "      <td>22</td>\n",
       "      <td>0</td>\n",
       "      <td>23</td>\n",
       "      <td>1</td>\n",
       "      <td>600</td>\n",
       "      <td>624</td>\n",
       "    </tr>\n",
       "    <tr>\n",
       "      <td>23</td>\n",
       "      <td>0</td>\n",
       "      <td>16</td>\n",
       "      <td>3</td>\n",
       "      <td>691</td>\n",
       "      <td>710</td>\n",
       "    </tr>\n",
       "    <tr>\n",
       "      <td>24</td>\n",
       "      <td>0</td>\n",
       "      <td>24</td>\n",
       "      <td>6</td>\n",
       "      <td>1986</td>\n",
       "      <td>2016</td>\n",
       "    </tr>\n",
       "    <tr>\n",
       "      <td>25</td>\n",
       "      <td>0</td>\n",
       "      <td>9</td>\n",
       "      <td>0</td>\n",
       "      <td>488</td>\n",
       "      <td>497</td>\n",
       "    </tr>\n",
       "    <tr>\n",
       "      <td>26</td>\n",
       "      <td>0</td>\n",
       "      <td>12</td>\n",
       "      <td>0</td>\n",
       "      <td>799</td>\n",
       "      <td>811</td>\n",
       "    </tr>\n",
       "    <tr>\n",
       "      <td>27</td>\n",
       "      <td>0</td>\n",
       "      <td>2</td>\n",
       "      <td>0</td>\n",
       "      <td>310</td>\n",
       "      <td>312</td>\n",
       "    </tr>\n",
       "    <tr>\n",
       "      <td>28</td>\n",
       "      <td>0</td>\n",
       "      <td>1</td>\n",
       "      <td>5</td>\n",
       "      <td>497</td>\n",
       "      <td>503</td>\n",
       "    </tr>\n",
       "    <tr>\n",
       "      <td>29</td>\n",
       "      <td>0</td>\n",
       "      <td>0</td>\n",
       "      <td>0</td>\n",
       "      <td>14</td>\n",
       "      <td>14</td>\n",
       "    </tr>\n",
       "    <tr>\n",
       "      <td>43</td>\n",
       "      <td>4</td>\n",
       "      <td>0</td>\n",
       "      <td>5</td>\n",
       "      <td>0</td>\n",
       "      <td>9</td>\n",
       "    </tr>\n",
       "    <tr>\n",
       "      <td>All</td>\n",
       "      <td>8</td>\n",
       "      <td>548</td>\n",
       "      <td>58</td>\n",
       "      <td>7559</td>\n",
       "      <td>8173</td>\n",
       "    </tr>\n",
       "  </tbody>\n",
       "</table>\n",
       "</div>"
      ],
      "text/plain": [
       "Predicted  1   10  17    24   All\n",
       "True                             \n",
       "1          4   13   0   493   510\n",
       "2          0    0   1    83    84\n",
       "10         0  441   6   812  1259\n",
       "15         0    4   0   170   174\n",
       "17         0    0  21   389   410\n",
       "19         0    1   2    72    75\n",
       "20         0    2   8   155   165\n",
       "22         0   23   1   600   624\n",
       "23         0   16   3   691   710\n",
       "24         0   24   6  1986  2016\n",
       "25         0    9   0   488   497\n",
       "26         0   12   0   799   811\n",
       "27         0    2   0   310   312\n",
       "28         0    1   5   497   503\n",
       "29         0    0   0    14    14\n",
       "43         4    0   5     0     9\n",
       "All        8  548  58  7559  8173"
      ]
     },
     "execution_count": 33,
     "metadata": {},
     "output_type": "execute_result"
    }
   ],
   "source": [
    "pd.crosstab(y_test, ab_pred, rownames=['True'], colnames=['Predicted'], margins=True)"
   ]
  },
  {
   "cell_type": "code",
   "execution_count": 40,
   "metadata": {},
   "outputs": [],
   "source": [
    "c = evaluate(y_test, ab_pred, 'Adapative Boosting Tree')"
   ]
  },
  {
   "cell_type": "markdown",
   "metadata": {},
   "source": [
    "## Gradient Boosting"
   ]
  },
  {
   "cell_type": "code",
   "execution_count": 41,
   "metadata": {},
   "outputs": [
    {
     "name": "stdout",
     "output_type": "stream",
     "text": [
      "Precision Score: 0.7828934913836353\n",
      "Recall Score: 0.6736816346506791\n",
      "Accuracy Score: 0.6736816346506791\n",
      "F1 Score: 0.6730341511704082\n"
     ]
    }
   ],
   "source": [
    "start = time.time()\n",
    "gbt_clf = GradientBoostingClassifier()\n",
    "gbt_clf.fit(x_train, y_train)\n",
    "gb_runtime = time.time() - start\n",
    "gb_pred = gbt_clf.predict(x_test)\n",
    "print_accuracy_indices(y_test, gb_pred)"
   ]
  },
  {
   "cell_type": "code",
   "execution_count": null,
   "metadata": {},
   "outputs": [],
   "source": [
    "n_estimators = [100,140,145,150,160, 170,175,180,185];\n",
    "cv = StratifiedShuffleSplit(n_splits=10, test_size=.30, random_state=15)\n",
    "learning_r = [0.1,1,0.01,0.5]\n",
    "\n",
    "parameters = {'n_estimators':n_estimators,\n",
    "              'learning_rate':learning_r\n",
    "              \n",
    "        }\n",
    "grid = GridSearchCV(AdaBoostClassifier(base_estimator= None, ## If None, then the base estimator is a decision tree.\n",
    "                                     ),\n",
    "                                 param_grid=parameters,\n",
    "                                 cv=cv,\n",
    "                                 n_jobs = -1)\n",
    "grid.fit(x,y) "
   ]
  },
  {
   "cell_type": "code",
   "execution_count": 42,
   "metadata": {},
   "outputs": [],
   "source": [
    "d = evaluate(y_test, gb_pred, 'Gradient Boosting')"
   ]
  },
  {
   "cell_type": "markdown",
   "metadata": {},
   "source": [
    "## SVM"
   ]
  },
  {
   "cell_type": "code",
   "execution_count": 43,
   "metadata": {},
   "outputs": [],
   "source": [
    "svm_train, svm_test, svmy_train, svmy_test = train_test_split(x, y, test_size = 0.2)"
   ]
  },
  {
   "cell_type": "code",
   "execution_count": 45,
   "metadata": {},
   "outputs": [
    {
     "name": "stderr",
     "output_type": "stream",
     "text": [
      "/Users/zoe/anaconda3/lib/python3.7/site-packages/sklearn/svm/base.py:193: FutureWarning: The default value of gamma will change from 'auto' to 'scale' in version 0.22 to account better for unscaled features. Set gamma explicitly to 'auto' or 'scale' to avoid this warning.\n",
      "  \"avoid this warning.\", FutureWarning)\n"
     ]
    },
    {
     "data": {
      "text/plain": [
       "207.99267196655273"
      ]
     },
     "execution_count": 45,
     "metadata": {},
     "output_type": "execute_result"
    }
   ],
   "source": [
    "start = time.time()\n",
    "svm_clf = svm.NuSVC(kernel='rbf',nu=0.01)\n",
    "svm_clf.fit(svm_train, svmy_train)\n",
    "svm_runtime = time.time() - start\n",
    "svm_runtime"
   ]
  },
  {
   "cell_type": "code",
   "execution_count": 96,
   "metadata": {},
   "outputs": [],
   "source": [
    "#As a matter of fact, Looped from 1. to 0.1 (decreasing in decimal units) \n",
    "#and still got the error, then just tried with 0.01 and no complaints arose. \n",
    "#But of course, you should check the results of fitting your model with that value"
   ]
  },
  {
   "cell_type": "code",
   "execution_count": 46,
   "metadata": {},
   "outputs": [
    {
     "name": "stdout",
     "output_type": "stream",
     "text": [
      "Precision Score: 0.5381308339744817\n",
      "Recall Score: 0.530404992046984\n",
      "Accuracy Score: 0.530404992046984\n",
      "F1 Score: 0.5225116528981367\n"
     ]
    }
   ],
   "source": [
    "svm_pred = svm_clf.predict(svm_test)\n",
    "print_accuracy_indices(svmy_test, svm_pred)"
   ]
  },
  {
   "cell_type": "code",
   "execution_count": 47,
   "metadata": {},
   "outputs": [],
   "source": [
    "e = evaluate(y_test, svm_pred, 'SVM')"
   ]
  },
  {
   "cell_type": "markdown",
   "metadata": {},
   "source": [
    "## Decision Trees"
   ]
  },
  {
   "cell_type": "code",
   "execution_count": 48,
   "metadata": {},
   "outputs": [],
   "source": [
    "start = time.time()\n",
    "dt_classifier = DecisionTreeClassifier()  \n",
    "dt_classifier.fit(x_train, y_train) \n",
    "dt_runtime = time.time() - start"
   ]
  },
  {
   "cell_type": "code",
   "execution_count": 50,
   "metadata": {},
   "outputs": [
    {
     "name": "stdout",
     "output_type": "stream",
     "text": [
      "Precision Score: 0.8850588804433694\n",
      "Recall Score: 0.8848647987275174\n",
      "Accuracy Score: 0.8848647987275174\n",
      "F1 Score: 0.8848077072402896\n"
     ]
    }
   ],
   "source": [
    "dt_pred = dt_classifier.predict(x_test)  \n",
    "print_accuracy_indices(y_test, dt_pred)"
   ]
  },
  {
   "cell_type": "code",
   "execution_count": 51,
   "metadata": {},
   "outputs": [],
   "source": [
    "f = evaluate(y_test, dt_pred, 'Decision Tree')"
   ]
  },
  {
   "cell_type": "markdown",
   "metadata": {},
   "source": [
    "## Naive Bayes Classifer\n"
   ]
  },
  {
   "cell_type": "markdown",
   "metadata": {},
   "source": [
    "Naive Bayes classifier – Naive Bayes classification method is based on Bayes’ theorem. It is termed as ‘Naive’ because it assumes independence between every pair of feature in the data. Let (x1, x2, …, xn) be a feature vector and y be the class label corresponding to this feature vector."
   ]
  },
  {
   "cell_type": "code",
   "execution_count": 54,
   "metadata": {
    "scrolled": false
   },
   "outputs": [
    {
     "name": "stdout",
     "output_type": "stream",
     "text": [
      "0.3244830539581549\n"
     ]
    }
   ],
   "source": [
    "start = time.time()\n",
    "gnb = GaussianNB().fit(x_train, y_train) \n",
    "gnb_predictions = gnb.predict(x_test) \n",
    "# accuracy on X_test \n",
    "accuracy = gnb.score(x_test, y_test) \n",
    "nb_runtime = time.time() - start\n",
    "print (accuracy) \n",
    "# creating a confusion matrix \n",
    "nbcm = confusion_matrix(y_test, gnb_predictions)\n"
   ]
  },
  {
   "cell_type": "code",
   "execution_count": 55,
   "metadata": {},
   "outputs": [
    {
     "name": "stdout",
     "output_type": "stream",
     "text": [
      "Precision Score: 0.6058846371090235\n",
      "Recall Score: 0.3244830539581549\n",
      "Accuracy Score: 0.3244830539581549\n",
      "F1 Score: 0.35178032201102305\n"
     ]
    }
   ],
   "source": [
    "nbpred = gnb.predict(x_test)  \n",
    "print_accuracy_indices(y_test, gnb_predictions)"
   ]
  },
  {
   "cell_type": "code",
   "execution_count": 56,
   "metadata": {},
   "outputs": [],
   "source": [
    "g = evaluate(y_test, nbpred, 'Naive Bayes')\n"
   ]
  },
  {
   "cell_type": "markdown",
   "metadata": {},
   "source": [
    "## Multinomial NB"
   ]
  },
  {
   "cell_type": "code",
   "execution_count": 57,
   "metadata": {},
   "outputs": [],
   "source": [
    "from sklearn.naive_bayes import MultinomialNB"
   ]
  },
  {
   "cell_type": "code",
   "execution_count": 58,
   "metadata": {},
   "outputs": [
    {
     "data": {
      "text/plain": [
       "0.11431002616882324"
      ]
     },
     "execution_count": 58,
     "metadata": {},
     "output_type": "execute_result"
    }
   ],
   "source": [
    "start = time.time()\n",
    "mnb = MultinomialNB()\n",
    "mnb.fit(x_train, y_train)\n",
    "mnb_runtime = time.time() - start\n",
    "mnb_runtime"
   ]
  },
  {
   "cell_type": "code",
   "execution_count": 60,
   "metadata": {},
   "outputs": [
    {
     "name": "stdout",
     "output_type": "stream",
     "text": [
      "Precision Score: 0.48669358768126453\n",
      "Recall Score: 0.37513764835433744\n",
      "Accuracy Score: 0.37513764835433744\n",
      "F1 Score: 0.34099301433779217\n"
     ]
    },
    {
     "name": "stderr",
     "output_type": "stream",
     "text": [
      "/Users/zoe/anaconda3/lib/python3.7/site-packages/sklearn/metrics/classification.py:1437: UndefinedMetricWarning: Precision is ill-defined and being set to 0.0 in labels with no predicted samples.\n",
      "  'precision', 'predicted', average, warn_for)\n",
      "/Users/zoe/anaconda3/lib/python3.7/site-packages/sklearn/metrics/classification.py:1437: UndefinedMetricWarning: F-score is ill-defined and being set to 0.0 in labels with no predicted samples.\n",
      "  'precision', 'predicted', average, warn_for)\n"
     ]
    }
   ],
   "source": [
    "mnb_pred = mnb.predict(x_test)\n",
    "print_accuracy_indices(y_test, mnb_pred)"
   ]
  },
  {
   "cell_type": "code",
   "execution_count": 61,
   "metadata": {},
   "outputs": [],
   "source": [
    "h = evaluate(y_test, mnb_pred, 'Multinomial Naive Bayes')"
   ]
  },
  {
   "cell_type": "markdown",
   "metadata": {},
   "source": [
    "## Bagging"
   ]
  },
  {
   "cell_type": "code",
   "execution_count": 62,
   "metadata": {},
   "outputs": [],
   "source": [
    "start = time.time()\n",
    "bt_classifier = BaggingClassifier(DecisionTreeClassifier(criterion='gini', max_depth=5), n_estimators=100)\n",
    "bt_classifier.fit(x_train, y_train)\n",
    "bt_runtime = time.time() - start"
   ]
  },
  {
   "cell_type": "code",
   "execution_count": 65,
   "metadata": {},
   "outputs": [
    {
     "name": "stdout",
     "output_type": "stream",
     "text": [
      "Precision Score: 0.44461461300402083\n",
      "Recall Score: 0.3505444757127126\n",
      "Accuracy Score: 0.3505444757127126\n",
      "F1 Score: 0.23901948194748962\n"
     ]
    },
    {
     "name": "stderr",
     "output_type": "stream",
     "text": [
      "/Users/zoe/anaconda3/lib/python3.7/site-packages/sklearn/metrics/classification.py:1437: UndefinedMetricWarning: Precision is ill-defined and being set to 0.0 in labels with no predicted samples.\n",
      "  'precision', 'predicted', average, warn_for)\n",
      "/Users/zoe/anaconda3/lib/python3.7/site-packages/sklearn/metrics/classification.py:1437: UndefinedMetricWarning: F-score is ill-defined and being set to 0.0 in labels with no predicted samples.\n",
      "  'precision', 'predicted', average, warn_for)\n"
     ]
    }
   ],
   "source": [
    "bt_pred = bt_classifier.predict(x_test)\n",
    "print_accuracy_indices(y_test, bt_pred)"
   ]
  },
  {
   "cell_type": "code",
   "execution_count": 66,
   "metadata": {},
   "outputs": [],
   "source": [
    "i = evaluate(y_test, bt_pred, 'Bagged Trees')\n"
   ]
  },
  {
   "cell_type": "markdown",
   "metadata": {},
   "source": [
    "## PCA"
   ]
  },
  {
   "cell_type": "code",
   "execution_count": 67,
   "metadata": {
    "scrolled": true
   },
   "outputs": [
    {
     "data": {
      "text/plain": [
       "Text(0, 0.5, 'Cumulative explained variance')"
      ]
     },
     "execution_count": 67,
     "metadata": {},
     "output_type": "execute_result"
    },
    {
     "data": {
      "image/png": "[encoded data removed]",
      "text/plain": [
       "<Figure size 720x576 with 1 Axes>"
      ]
     },
     "metadata": {},
     "output_type": "display_data"
    }
   ],
   "source": [
    "from sklearn.decomposition import PCA\n",
    "plt.figure(figsize=(10, 8))\n",
    "pca = PCA().fit(x)\n",
    "plt.plot(np.cumsum(pca.explained_variance_ratio_))\n",
    "plt.xlim(0,7,1)\n",
    "plt.tick_params(labelsize=12)\n",
    "plt.xticks(size=15)\n",
    "plt.xlabel('Number of components', size =15)\n",
    "plt.ylabel('Cumulative explained variance',size =15)"
   ]
  },
  {
   "cell_type": "code",
   "execution_count": 68,
   "metadata": {},
   "outputs": [
    {
     "data": {
      "text/plain": [
       "PCA(copy=True, iterated_power='auto', n_components=None, random_state=None,\n",
       "    svd_solver='auto', tol=0.0, whiten=False)"
      ]
     },
     "execution_count": 68,
     "metadata": {},
     "output_type": "execute_result"
    }
   ],
   "source": [
    "pca.fit(x)"
   ]
  },
  {
   "cell_type": "code",
   "execution_count": 69,
   "metadata": {},
   "outputs": [
    {
     "data": {
      "text/plain": [
       "array([[-1.57570525e+01, -3.08036863e+00, -1.36474478e+00, ...,\n",
       "        -4.54874105e-05,  1.18286457e-15,  2.65629532e-17],\n",
       "       [-5.55653006e+00, -2.36733681e+00, -3.74387073e+00, ...,\n",
       "         6.46963043e-05, -2.79240606e-14,  6.64615932e-17],\n",
       "       [ 1.42692589e+00, -2.46089904e+00, -3.27597959e+00, ...,\n",
       "        -5.17136623e-05,  4.04434515e-15,  3.25260652e-17],\n",
       "       ...,\n",
       "       [ 3.35245778e+01,  1.36869211e+00, -3.09542727e+00, ...,\n",
       "         2.02662142e-05,  3.16120827e-15,  2.14672030e-17],\n",
       "       [-2.80743875e+00, -4.89392950e+00, -3.96133571e-01, ...,\n",
       "        -6.54742840e-05,  2.89069983e-14, -1.12648606e-16],\n",
       "       [-1.23302567e+01, -5.40484225e+00, -7.46201114e+00, ...,\n",
       "        -2.68732786e-05,  3.45849651e-15,  2.43945489e-17]])"
      ]
     },
     "execution_count": 69,
     "metadata": {},
     "output_type": "execute_result"
    }
   ],
   "source": [
    "x_pca = pca.transform(x)\n",
    "x_pca"
   ]
  },
  {
   "cell_type": "code",
   "execution_count": 73,
   "metadata": {},
   "outputs": [],
   "source": [
    "results = pd.DataFrame()"
   ]
  },
  {
   "cell_type": "code",
   "execution_count": 74,
   "metadata": {},
   "outputs": [
    {
     "data": {
      "text/html": [
       "<div>\n",
       "<style scoped>\n",
       "    .dataframe tbody tr th:only-of-type {\n",
       "        vertical-align: middle;\n",
       "    }\n",
       "\n",
       "    .dataframe tbody tr th {\n",
       "        vertical-align: top;\n",
       "    }\n",
       "\n",
       "    .dataframe thead th {\n",
       "        text-align: right;\n",
       "    }\n",
       "</style>\n",
       "<table border=\"1\" class=\"dataframe\">\n",
       "  <thead>\n",
       "    <tr style=\"text-align: right;\">\n",
       "      <th></th>\n",
       "      <th>Model</th>\n",
       "      <th>Precision Score</th>\n",
       "      <th>Recall Score</th>\n",
       "      <th>Accuracy Score</th>\n",
       "      <th>F1 Score</th>\n",
       "      <th>Model Runtime</th>\n",
       "    </tr>\n",
       "  </thead>\n",
       "  <tbody>\n",
       "    <tr>\n",
       "      <td>0</td>\n",
       "      <td>K Nearest Neighbors</td>\n",
       "      <td>0.826684</td>\n",
       "      <td>0.825523</td>\n",
       "      <td>0.825523</td>\n",
       "      <td>0.825274</td>\n",
       "      <td>0.585877</td>\n",
       "    </tr>\n",
       "    <tr>\n",
       "      <td>1</td>\n",
       "      <td>Random Forest</td>\n",
       "      <td>0.968373</td>\n",
       "      <td>0.967943</td>\n",
       "      <td>0.967943</td>\n",
       "      <td>0.967947</td>\n",
       "      <td>15.992004</td>\n",
       "    </tr>\n",
       "    <tr>\n",
       "      <td>2</td>\n",
       "      <td>Adapative Boosting Tree</td>\n",
       "      <td>0.238137</td>\n",
       "      <td>0.300012</td>\n",
       "      <td>0.300012</td>\n",
       "      <td>0.182979</td>\n",
       "      <td>5.352811</td>\n",
       "    </tr>\n",
       "    <tr>\n",
       "      <td>3</td>\n",
       "      <td>Gradient Boosting</td>\n",
       "      <td>0.782893</td>\n",
       "      <td>0.673682</td>\n",
       "      <td>0.673682</td>\n",
       "      <td>0.673034</td>\n",
       "      <td>237.158468</td>\n",
       "    </tr>\n",
       "    <tr>\n",
       "      <td>4</td>\n",
       "      <td>SVM</td>\n",
       "      <td>0.119493</td>\n",
       "      <td>0.112199</td>\n",
       "      <td>0.112199</td>\n",
       "      <td>0.113544</td>\n",
       "      <td>207.992672</td>\n",
       "    </tr>\n",
       "    <tr>\n",
       "      <td>5</td>\n",
       "      <td>Decision Tree</td>\n",
       "      <td>0.885059</td>\n",
       "      <td>0.884865</td>\n",
       "      <td>0.884865</td>\n",
       "      <td>0.884808</td>\n",
       "      <td>1.758622</td>\n",
       "    </tr>\n",
       "    <tr>\n",
       "      <td>6</td>\n",
       "      <td>Naive Bayes</td>\n",
       "      <td>0.605885</td>\n",
       "      <td>0.324483</td>\n",
       "      <td>0.324483</td>\n",
       "      <td>0.351780</td>\n",
       "      <td>0.783969</td>\n",
       "    </tr>\n",
       "    <tr>\n",
       "      <td>7</td>\n",
       "      <td>Multinomial Naive Bayes</td>\n",
       "      <td>0.486694</td>\n",
       "      <td>0.375138</td>\n",
       "      <td>0.375138</td>\n",
       "      <td>0.340993</td>\n",
       "      <td>0.114310</td>\n",
       "    </tr>\n",
       "    <tr>\n",
       "      <td>8</td>\n",
       "      <td>Bagged Trees</td>\n",
       "      <td>0.444615</td>\n",
       "      <td>0.350544</td>\n",
       "      <td>0.350544</td>\n",
       "      <td>0.239019</td>\n",
       "      <td>21.235933</td>\n",
       "    </tr>\n",
       "  </tbody>\n",
       "</table>\n",
       "</div>"
      ],
      "text/plain": [
       "                     Model  Precision Score  Recall Score  Accuracy Score  \\\n",
       "0      K Nearest Neighbors         0.826684      0.825523        0.825523   \n",
       "1            Random Forest         0.968373      0.967943        0.967943   \n",
       "2  Adapative Boosting Tree         0.238137      0.300012        0.300012   \n",
       "3        Gradient Boosting         0.782893      0.673682        0.673682   \n",
       "4                      SVM         0.119493      0.112199        0.112199   \n",
       "5            Decision Tree         0.885059      0.884865        0.884865   \n",
       "6              Naive Bayes         0.605885      0.324483        0.324483   \n",
       "7  Multinomial Naive Bayes         0.486694      0.375138        0.375138   \n",
       "8             Bagged Trees         0.444615      0.350544        0.350544   \n",
       "\n",
       "   F1 Score  Model Runtime  \n",
       "0  0.825274       0.585877  \n",
       "1  0.967947      15.992004  \n",
       "2  0.182979       5.352811  \n",
       "3  0.673034     237.158468  \n",
       "4  0.113544     207.992672  \n",
       "5  0.884808       1.758622  \n",
       "6  0.351780       0.783969  \n",
       "7  0.340993       0.114310  \n",
       "8  0.239019      21.235933  "
      ]
     },
     "execution_count": 74,
     "metadata": {},
     "output_type": "execute_result"
    }
   ],
   "source": [
    "results = results.append([a, b, c, d, e, f, g, h, i])\n",
    "results.columns = ['Model', 'Precision Score', 'Recall Score', 'Accuracy Score', 'F1 Score']\n",
    "results['Model Runtime'] = [knn_runtime, rf_runtime, ab_runtime, gb_runtime, svm_runtime, dt_runtime, nb_runtime,\n",
    "                            mnb_runtime, bt_runtime]\n",
    "results"
   ]
  },
  {
   "cell_type": "code",
   "execution_count": 75,
   "metadata": {},
   "outputs": [],
   "source": [
    "import scikitplot as skplt\n",
    "import matplotlib.pyplot as plt"
   ]
  },
  {
   "cell_type": "code",
   "execution_count": 76,
   "metadata": {},
   "outputs": [],
   "source": [
    "probas = rfclassifier.predict_proba(x_test)"
   ]
  },
  {
   "cell_type": "code",
   "execution_count": 77,
   "metadata": {},
   "outputs": [
    {
     "name": "stderr",
     "output_type": "stream",
     "text": [
      "/Users/zoe/anaconda3/lib/python3.7/site-packages/sklearn/utils/deprecation.py:85: DeprecationWarning: Function plot_precision_recall_curve is deprecated; This will be removed in v0.5.0. Please use scikitplot.metrics.plot_precision_recall instead.\n",
      "  warnings.warn(msg, category=DeprecationWarning)\n"
     ]
    },
    {
     "data": {
      "text/plain": [
       "<matplotlib.axes._subplots.AxesSubplot at 0x1a6351cba8>"
      ]
     },
     "execution_count": 77,
     "metadata": {},
     "output_type": "execute_result"
    },
    {
     "data": {
      "image/png": "[encoded data removed]",
      "text/plain": [
       "<Figure size 432x288 with 1 Axes>"
      ]
     },
     "metadata": {},
     "output_type": "display_data"
    }
   ],
   "source": [
    "skplt.metrics.plot_precision_recall_curve(y_test, probas)"
   ]
  },
  {
   "cell_type": "code",
   "execution_count": 78,
   "metadata": {},
   "outputs": [
    {
     "ename": "NameError",
     "evalue": "name 'SMOTE' is not defined",
     "output_type": "error",
     "traceback": [
      "\u001b[0;31m---------------------------------------------------------------------------\u001b[0m",
      "\u001b[0;31mNameError\u001b[0m                                 Traceback (most recent call last)",
      "\u001b[0;32m<ipython-input-78-a045f5829aea>\u001b[0m in \u001b[0;36m<module>\u001b[0;34m\u001b[0m\n\u001b[0;32m----> 1\u001b[0;31m \u001b[0msm\u001b[0m \u001b[0;34m=\u001b[0m \u001b[0mSMOTE\u001b[0m\u001b[0;34m(\u001b[0m\u001b[0msampling_strategy\u001b[0m\u001b[0;34m=\u001b[0m\u001b[0;34m'auto'\u001b[0m\u001b[0;34m,\u001b[0m \u001b[0mk_neighbors\u001b[0m\u001b[0;34m=\u001b[0m\u001b[0;36m1\u001b[0m\u001b[0;34m,\u001b[0m \u001b[0mrandom_state\u001b[0m\u001b[0;34m=\u001b[0m\u001b[0;36m42\u001b[0m\u001b[0;34m)\u001b[0m\u001b[0;34m\u001b[0m\u001b[0;34m\u001b[0m\u001b[0m\n\u001b[0m\u001b[1;32m      2\u001b[0m \u001b[0mX_res\u001b[0m\u001b[0;34m,\u001b[0m \u001b[0my_res\u001b[0m \u001b[0;34m=\u001b[0m \u001b[0msm\u001b[0m\u001b[0;34m.\u001b[0m\u001b[0mfit_resample\u001b[0m\u001b[0;34m(\u001b[0m\u001b[0mx\u001b[0m\u001b[0;34m,\u001b[0m \u001b[0my\u001b[0m\u001b[0;34m)\u001b[0m\u001b[0;34m\u001b[0m\u001b[0;34m\u001b[0m\u001b[0m\n",
      "\u001b[0;31mNameError\u001b[0m: name 'SMOTE' is not defined"
     ]
    }
   ],
   "source": [
    "sm = SMOTE(sampling_strategy='auto', k_neighbors=1, random_state=42)\n",
    "X_res, y_res = sm.fit_resample(x, y)"
   ]
  },
  {
   "cell_type": "code",
   "execution_count": null,
   "metadata": {},
   "outputs": [],
   "source": []
  },
  {
   "cell_type": "code",
   "execution_count": null,
   "metadata": {},
   "outputs": [],
   "source": []
  }
 ],
 "metadata": {
  "kernelspec": {
   "display_name": "Python 3",
   "language": "python",
   "name": "python3"
  },
  "language_info": {
   "codemirror_mode": {
    "name": "ipython",
    "version": 3
   },
   "file_extension": ".py",
   "mimetype": "text/x-python",
   "name": "python",
   "nbconvert_exporter": "python",
   "pygments_lexer": "ipython3",
   "version": "3.7.1"
  }
 },
 "nbformat": 4,
 "nbformat_minor": 2
}
