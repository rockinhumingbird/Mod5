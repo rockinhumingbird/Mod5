{
 "cells": [
  {
   "cell_type": "code",
   "execution_count": 40,
   "metadata": {},
   "outputs": [],
   "source": [
    "import pandas as pd\n",
    "import matplotlib.pyplot as plt\n",
    "import seaborn as sns\n",
    "import numpy as np\n",
    "from wordcloud import WordCloud, STOPWORDS\n"
   ]
  },
  {
   "cell_type": "code",
   "execution_count": 48,
   "metadata": {},
   "outputs": [],
   "source": [
    "import numpy as np\n",
    "from sklearn import datasets\n",
    "import seaborn as sns\n",
    "from sklearn.feature_selection import RFE\n",
    "from sklearn.model_selection import train_test_split\n",
    "from sklearn.model_selection import cross_val_score\n",
    "from sklearn.model_selection import KFold\n",
    "from sklearn.pipeline import Pipeline\n",
    "from sklearn.preprocessing import StandardScaler\n",
    "import matplotlib.pyplot as plt\n",
    "import xgboost as xgb"
   ]
  },
  {
   "cell_type": "code",
   "execution_count": 55,
   "metadata": {},
   "outputs": [],
   "source": [
    "from sklearn.linear_model import LinearRegression\n",
    "from sklearn.linear_model import Lasso\n",
    "from sklearn.linear_model import ElasticNet\n",
    "from sklearn.linear_model import Ridge\n",
    "from sklearn.linear_model import BayesianRidge\n",
    "from sklearn.tree import DecisionTreeRegressor\n",
    "from sklearn.neighbors import KNeighborsRegressor\n",
    "from sklearn.ensemble import GradientBoostingRegressor\n",
    "from sklearn import svm"
   ]
  },
  {
   "cell_type": "code",
   "execution_count": 93,
   "metadata": {},
   "outputs": [],
   "source": [
    "import pandas as pd\n",
    "import nltk\n",
    "import sklearn\n",
    "\n",
    "from nltk.collocations import *\n",
    "from nltk.corpus import stopwords\n",
    "# from nltk.stem import *\n",
    "from nltk.stem import WordNetLemmatizer\n",
    "from sklearn.feature_extraction.text import CountVectorizer\n",
    "wordnet_lemmatizer = WordNetLemmatizer()\n",
    "english = set(nltk.corpus.words.words())"
   ]
  },
  {
   "cell_type": "code",
   "execution_count": 2,
   "metadata": {},
   "outputs": [],
   "source": [
    "df = pd.read_csv('youtubecleaned.csv')"
   ]
  },
  {
   "cell_type": "code",
   "execution_count": 3,
   "metadata": {},
   "outputs": [],
   "source": [
    "df2 = pd.read_csv('mathvideosdf.csv')"
   ]
  },
  {
   "cell_type": "code",
   "execution_count": 4,
   "metadata": {},
   "outputs": [
    {
     "data": {
      "text/plain": [
       "Index(['Unnamed: 0', 'tags', 'channelId', 'channelTitle', 'categoryId',\n",
       "       'title', 'videoId', 'viewCount', 'likeCount', 'dislikeCount',\n",
       "       'commentCount', 'favoriteCount', 'description'],\n",
       "      dtype='object')"
      ]
     },
     "execution_count": 4,
     "metadata": {},
     "output_type": "execute_result"
    }
   ],
   "source": [
    "df2.columns"
   ]
  },
  {
   "cell_type": "code",
   "execution_count": 5,
   "metadata": {},
   "outputs": [
    {
     "data": {
      "text/plain": [
       "Index(['Unnamed: 0', 'category_id', 'channel_title', 'comment_count',\n",
       "       'description', 'likes', 'dislikes', 'tags', 'title', 'trending_date',\n",
       "       'video_id', 'views'],\n",
       "      dtype='object')"
      ]
     },
     "execution_count": 5,
     "metadata": {},
     "output_type": "execute_result"
    }
   ],
   "source": [
    "df.columns"
   ]
  },
  {
   "cell_type": "code",
   "execution_count": 6,
   "metadata": {},
   "outputs": [],
   "source": [
    "df.loc[(df[\"category_id\"] == 1),\"category_name\"] = 'Film and Animation'\n",
    "df.loc[(df[\"category_id\"] == 2),\"category_name\"] = 'Cars and Vehicles'\n",
    "df.loc[(df[\"category_id\"] == 10),\"category_name\"] = 'Music'\n",
    "df.loc[(df[\"category_id\"] == 15),\"category_name\"] = 'Pets and Animals'\n",
    "df.loc[(df[\"category_id\"] == 17),\"category_name\"] = 'Sport'\n",
    "df.loc[(df[\"category_id\"] == 19),\"category_name\"] = 'Travel and Events'\n",
    "df.loc[(df[\"category_id\"] == 20),\"category_name\"] = 'Gaming'\n",
    "df.loc[(df[\"category_id\"] == 22),\"category_name\"] = 'People and Blogs'\n",
    "df.loc[(df[\"category_id\"] == 23),\"category_name\"] = 'Comedy'\n",
    "df.loc[(df[\"category_id\"] == 24),\"category_name\"] = 'Entertainment'\n",
    "df.loc[(df[\"category_id\"] == 25),\"category_name\"] = 'News and Politics'\n",
    "df.loc[(df[\"category_id\"] == 26),\"category_name\"] = 'How to and Style'\n",
    "df.loc[(df[\"category_id\"] == 27),\"category_name\"] = 'Education'\n",
    "df.loc[(df[\"category_id\"] == 28),\"category_name\"] = 'Science and Technology'\n",
    "df.loc[(df[\"category_id\"] == 29),\"category_name\"] = 'Non Profits and Activism'\n",
    "df.loc[(df[\"category_id\"] == 25),\"category_name\"] = 'News & Politics'"
   ]
  },
  {
   "cell_type": "code",
   "execution_count": 10,
   "metadata": {},
   "outputs": [
    {
     "data": {
      "text/plain": [
       "(41635, 13)"
      ]
     },
     "execution_count": 10,
     "metadata": {},
     "output_type": "execute_result"
    }
   ],
   "source": [
    "df.shape"
   ]
  },
  {
   "cell_type": "markdown",
   "metadata": {},
   "source": [
    "## Check NAs"
   ]
  },
  {
   "cell_type": "code",
   "execution_count": 8,
   "metadata": {},
   "outputs": [
    {
     "data": {
      "text/plain": [
       "Unnamed: 0         0\n",
       "category_id      394\n",
       "channel_title    394\n",
       "comment_count    394\n",
       "description      967\n",
       "likes            486\n",
       "dislikes         486\n",
       "tags             490\n",
       "title            578\n",
       "trending_date    578\n",
       "video_id         578\n",
       "views            774\n",
       "category_name    543\n",
       "dtype: int64"
      ]
     },
     "execution_count": 8,
     "metadata": {},
     "output_type": "execute_result"
    }
   ],
   "source": [
    "df.isna().sum()"
   ]
  },
  {
   "cell_type": "code",
   "execution_count": 9,
   "metadata": {},
   "outputs": [
    {
     "data": {
      "text/html": [
       "<div>\n",
       "<style scoped>\n",
       "    .dataframe tbody tr th:only-of-type {\n",
       "        vertical-align: middle;\n",
       "    }\n",
       "\n",
       "    .dataframe tbody tr th {\n",
       "        vertical-align: top;\n",
       "    }\n",
       "\n",
       "    .dataframe thead th {\n",
       "        text-align: right;\n",
       "    }\n",
       "</style>\n",
       "<table border=\"1\" class=\"dataframe\">\n",
       "  <thead>\n",
       "    <tr style=\"text-align: right;\">\n",
       "      <th></th>\n",
       "      <th>Unnamed: 0</th>\n",
       "      <th>category_id</th>\n",
       "      <th>channel_title</th>\n",
       "      <th>comment_count</th>\n",
       "      <th>description</th>\n",
       "      <th>likes</th>\n",
       "      <th>dislikes</th>\n",
       "      <th>tags</th>\n",
       "      <th>title</th>\n",
       "      <th>trending_date</th>\n",
       "      <th>video_id</th>\n",
       "      <th>views</th>\n",
       "      <th>category_name</th>\n",
       "    </tr>\n",
       "  </thead>\n",
       "  <tbody>\n",
       "    <tr>\n",
       "      <td>0</td>\n",
       "      <td>0</td>\n",
       "      <td>22.0</td>\n",
       "      <td>CaseyNeistat</td>\n",
       "      <td>15954</td>\n",
       "      <td>SHANTELL'S CHANNEL - https://www.youtube.com/s...</td>\n",
       "      <td>57527</td>\n",
       "      <td>2966</td>\n",
       "      <td>SHANtell martin</td>\n",
       "      <td>WE WANT TO TALK ABOUT OUR MARRIAGE</td>\n",
       "      <td>17.14.11</td>\n",
       "      <td>2kyS6SvSYSE</td>\n",
       "      <td>748374.0</td>\n",
       "      <td>People and Blogs</td>\n",
       "    </tr>\n",
       "    <tr>\n",
       "      <td>1</td>\n",
       "      <td>1</td>\n",
       "      <td>24.0</td>\n",
       "      <td>LastWeekTonight</td>\n",
       "      <td>12703</td>\n",
       "      <td>One year after the presidential election, John...</td>\n",
       "      <td>97185</td>\n",
       "      <td>6146</td>\n",
       "      <td>last week tonight trump presidency|\"last week ...</td>\n",
       "      <td>The Trump Presidency: Last Week Tonight with J...</td>\n",
       "      <td>17.14.11</td>\n",
       "      <td>1ZAPwfrtAFY</td>\n",
       "      <td>2418783.0</td>\n",
       "      <td>Entertainment</td>\n",
       "    </tr>\n",
       "    <tr>\n",
       "      <td>2</td>\n",
       "      <td>2</td>\n",
       "      <td>23.0</td>\n",
       "      <td>Rudy Mancuso</td>\n",
       "      <td>8181</td>\n",
       "      <td>WATCH MY PREVIOUS VIDEO ▶ \\n\\nSUBSCRIBE ► http...</td>\n",
       "      <td>146033</td>\n",
       "      <td>5339</td>\n",
       "      <td>racist superman|\"rudy\"|\"mancuso\"|\"king\"|\"bach\"...</td>\n",
       "      <td>Racist Superman | Rudy Mancuso, King Bach &amp; Le...</td>\n",
       "      <td>17.14.11</td>\n",
       "      <td>5qpjK5DgCt4</td>\n",
       "      <td>3191434.0</td>\n",
       "      <td>Comedy</td>\n",
       "    </tr>\n",
       "    <tr>\n",
       "      <td>3</td>\n",
       "      <td>3</td>\n",
       "      <td>24.0</td>\n",
       "      <td>Good Mythical Morning</td>\n",
       "      <td>2146</td>\n",
       "      <td>Today we find out if Link is a Nickelback amat...</td>\n",
       "      <td>10172</td>\n",
       "      <td>666</td>\n",
       "      <td>rhett and link|\"gmm\"|\"good mythical morning\"|\"...</td>\n",
       "      <td>Nickelback Lyrics: Real or Fake?</td>\n",
       "      <td>17.14.11</td>\n",
       "      <td>puqaWrEC7tY</td>\n",
       "      <td>343168.0</td>\n",
       "      <td>Entertainment</td>\n",
       "    </tr>\n",
       "    <tr>\n",
       "      <td>4</td>\n",
       "      <td>4</td>\n",
       "      <td>24.0</td>\n",
       "      <td>nigahiga</td>\n",
       "      <td>17518</td>\n",
       "      <td>I know it's been a while since we did this sho...</td>\n",
       "      <td>132235</td>\n",
       "      <td>1989</td>\n",
       "      <td>ryan|\"higa\"|\"higatv\"|\"nigahiga\"|\"i dare you\"|\"...</td>\n",
       "      <td>I Dare You: GOING BALD!?</td>\n",
       "      <td>17.14.11</td>\n",
       "      <td>d380meD0W0M</td>\n",
       "      <td>2095731.0</td>\n",
       "      <td>Entertainment</td>\n",
       "    </tr>\n",
       "    <tr>\n",
       "      <td>...</td>\n",
       "      <td>...</td>\n",
       "      <td>...</td>\n",
       "      <td>...</td>\n",
       "      <td>...</td>\n",
       "      <td>...</td>\n",
       "      <td>...</td>\n",
       "      <td>...</td>\n",
       "      <td>...</td>\n",
       "      <td>...</td>\n",
       "      <td>...</td>\n",
       "      <td>...</td>\n",
       "      <td>...</td>\n",
       "      <td>...</td>\n",
       "    </tr>\n",
       "    <tr>\n",
       "      <td>41630</td>\n",
       "      <td>195</td>\n",
       "      <td>15.0</td>\n",
       "      <td>Brave Wilderness</td>\n",
       "      <td>3245</td>\n",
       "      <td>On this episode of Blue Wilderness, Mark and t...</td>\n",
       "      <td>47246</td>\n",
       "      <td>1495</td>\n",
       "      <td>sharks|shark|great white shark|brave wildernes...</td>\n",
       "      <td>Entering Kill Zone with Great White Sharks!</td>\n",
       "      <td>19.08.12</td>\n",
       "      <td>bdep2hOWDc8</td>\n",
       "      <td>NaN</td>\n",
       "      <td>Pets and Animals</td>\n",
       "    </tr>\n",
       "    <tr>\n",
       "      <td>41631</td>\n",
       "      <td>196</td>\n",
       "      <td>28.0</td>\n",
       "      <td>Unbox Therapy</td>\n",
       "      <td>10632</td>\n",
       "      <td>Smartphone cases don't have to ruin your phone...</td>\n",
       "      <td>60835</td>\n",
       "      <td>29285</td>\n",
       "      <td>latercase|later case|phone case|thin phone cas...</td>\n",
       "      <td>Don't Ruin Your Smartphone</td>\n",
       "      <td>19.08.12</td>\n",
       "      <td>s0wKAHQI8XU</td>\n",
       "      <td>NaN</td>\n",
       "      <td>Science and Technology</td>\n",
       "    </tr>\n",
       "    <tr>\n",
       "      <td>41632</td>\n",
       "      <td>197</td>\n",
       "      <td>24.0</td>\n",
       "      <td>A&amp;E</td>\n",
       "      <td>2403</td>\n",
       "      <td>Stay up to date on all of A&amp;E's latest premier...</td>\n",
       "      <td>14699</td>\n",
       "      <td>649</td>\n",
       "      <td>a&amp;e|aetv|a&amp;e tv|ae|a&amp;e television|a&amp;e shows|a ...</td>\n",
       "      <td>Live PD: Best of Lake County, Illinois Sheriff...</td>\n",
       "      <td>19.08.12</td>\n",
       "      <td>ZLuxpDxhHYA</td>\n",
       "      <td>NaN</td>\n",
       "      <td>Entertainment</td>\n",
       "    </tr>\n",
       "    <tr>\n",
       "      <td>41633</td>\n",
       "      <td>198</td>\n",
       "      <td>10.0</td>\n",
       "      <td>FabolousVEVO</td>\n",
       "      <td>3075</td>\n",
       "      <td>Summertime Shootout 3 is out now! Download &amp; s...</td>\n",
       "      <td>42486</td>\n",
       "      <td>1012</td>\n",
       "      <td>Fabolous|B.O.M.B.S.|Def|Jam|Recordings|Hip|Hop</td>\n",
       "      <td>Fabolous - B.O.M.B.S.</td>\n",
       "      <td>19.08.12</td>\n",
       "      <td>yr_qQmvE4bU</td>\n",
       "      <td>NaN</td>\n",
       "      <td>Music</td>\n",
       "    </tr>\n",
       "    <tr>\n",
       "      <td>41634</td>\n",
       "      <td>199</td>\n",
       "      <td>26.0</td>\n",
       "      <td>Niki and Gabi</td>\n",
       "      <td>6328</td>\n",
       "      <td>AnOtHeR BLACK FRIDAY HAUL for 2019!this is our...</td>\n",
       "      <td>72395</td>\n",
       "      <td>2095</td>\n",
       "      <td>niki and gabi|black friday haul|black friday h...</td>\n",
       "      <td>Black Friday Haul 2019! Niki and Gabi</td>\n",
       "      <td>19.08.12</td>\n",
       "      <td>QmYNmNHrtCQ</td>\n",
       "      <td>NaN</td>\n",
       "      <td>How to and Style</td>\n",
       "    </tr>\n",
       "  </tbody>\n",
       "</table>\n",
       "<p>41635 rows × 13 columns</p>\n",
       "</div>"
      ],
      "text/plain": [
       "      Unnamed: 0  category_id          channel_title comment_count  \\\n",
       "0              0         22.0           CaseyNeistat         15954   \n",
       "1              1         24.0        LastWeekTonight         12703   \n",
       "2              2         23.0           Rudy Mancuso          8181   \n",
       "3              3         24.0  Good Mythical Morning          2146   \n",
       "4              4         24.0               nigahiga         17518   \n",
       "...          ...          ...                    ...           ...   \n",
       "41630        195         15.0       Brave Wilderness          3245   \n",
       "41631        196         28.0          Unbox Therapy         10632   \n",
       "41632        197         24.0                    A&E          2403   \n",
       "41633        198         10.0           FabolousVEVO          3075   \n",
       "41634        199         26.0          Niki and Gabi          6328   \n",
       "\n",
       "                                             description   likes dislikes  \\\n",
       "0      SHANTELL'S CHANNEL - https://www.youtube.com/s...   57527     2966   \n",
       "1      One year after the presidential election, John...   97185     6146   \n",
       "2      WATCH MY PREVIOUS VIDEO ▶ \\n\\nSUBSCRIBE ► http...  146033     5339   \n",
       "3      Today we find out if Link is a Nickelback amat...   10172      666   \n",
       "4      I know it's been a while since we did this sho...  132235     1989   \n",
       "...                                                  ...     ...      ...   \n",
       "41630  On this episode of Blue Wilderness, Mark and t...   47246     1495   \n",
       "41631  Smartphone cases don't have to ruin your phone...   60835    29285   \n",
       "41632  Stay up to date on all of A&E's latest premier...   14699      649   \n",
       "41633  Summertime Shootout 3 is out now! Download & s...   42486     1012   \n",
       "41634  AnOtHeR BLACK FRIDAY HAUL for 2019!this is our...   72395     2095   \n",
       "\n",
       "                                                    tags  \\\n",
       "0                                        SHANtell martin   \n",
       "1      last week tonight trump presidency|\"last week ...   \n",
       "2      racist superman|\"rudy\"|\"mancuso\"|\"king\"|\"bach\"...   \n",
       "3      rhett and link|\"gmm\"|\"good mythical morning\"|\"...   \n",
       "4      ryan|\"higa\"|\"higatv\"|\"nigahiga\"|\"i dare you\"|\"...   \n",
       "...                                                  ...   \n",
       "41630  sharks|shark|great white shark|brave wildernes...   \n",
       "41631  latercase|later case|phone case|thin phone cas...   \n",
       "41632  a&e|aetv|a&e tv|ae|a&e television|a&e shows|a ...   \n",
       "41633     Fabolous|B.O.M.B.S.|Def|Jam|Recordings|Hip|Hop   \n",
       "41634  niki and gabi|black friday haul|black friday h...   \n",
       "\n",
       "                                                   title trending_date  \\\n",
       "0                     WE WANT TO TALK ABOUT OUR MARRIAGE      17.14.11   \n",
       "1      The Trump Presidency: Last Week Tonight with J...      17.14.11   \n",
       "2      Racist Superman | Rudy Mancuso, King Bach & Le...      17.14.11   \n",
       "3                       Nickelback Lyrics: Real or Fake?      17.14.11   \n",
       "4                               I Dare You: GOING BALD!?      17.14.11   \n",
       "...                                                  ...           ...   \n",
       "41630        Entering Kill Zone with Great White Sharks!      19.08.12   \n",
       "41631                         Don't Ruin Your Smartphone      19.08.12   \n",
       "41632  Live PD: Best of Lake County, Illinois Sheriff...      19.08.12   \n",
       "41633                              Fabolous - B.O.M.B.S.      19.08.12   \n",
       "41634              Black Friday Haul 2019! Niki and Gabi      19.08.12   \n",
       "\n",
       "          video_id      views           category_name  \n",
       "0      2kyS6SvSYSE   748374.0        People and Blogs  \n",
       "1      1ZAPwfrtAFY  2418783.0           Entertainment  \n",
       "2      5qpjK5DgCt4  3191434.0                  Comedy  \n",
       "3      puqaWrEC7tY   343168.0           Entertainment  \n",
       "4      d380meD0W0M  2095731.0           Entertainment  \n",
       "...            ...        ...                     ...  \n",
       "41630  bdep2hOWDc8        NaN        Pets and Animals  \n",
       "41631  s0wKAHQI8XU        NaN  Science and Technology  \n",
       "41632  ZLuxpDxhHYA        NaN           Entertainment  \n",
       "41633  yr_qQmvE4bU        NaN                   Music  \n",
       "41634  QmYNmNHrtCQ        NaN        How to and Style  \n",
       "\n",
       "[41635 rows x 13 columns]"
      ]
     },
     "execution_count": 9,
     "metadata": {},
     "output_type": "execute_result"
    }
   ],
   "source": [
    "df.dropna(how = 'all')"
   ]
  },
  {
   "cell_type": "markdown",
   "metadata": {},
   "source": [
    "## Data Cleaning = Dealing with NAs"
   ]
  },
  {
   "cell_type": "code",
   "execution_count": 20,
   "metadata": {},
   "outputs": [],
   "source": [
    "df['views'] = pd.to_numeric(df['views'], errors='coerce')\n",
    "df = df.dropna(subset=['views'])\n",
    "df['views']= df['views'].astype(int)\n"
   ]
  },
  {
   "cell_type": "code",
   "execution_count": 24,
   "metadata": {},
   "outputs": [],
   "source": [
    "df['likes'] = pd.to_numeric(df['likes'], errors='coerce')\n",
    "df = df.dropna(subset=['views'])\n",
    "df['likes']= df['likes'].astype(int)"
   ]
  },
  {
   "cell_type": "code",
   "execution_count": 25,
   "metadata": {},
   "outputs": [],
   "source": [
    "df['dislikes'] = pd.to_numeric(df['dislikes'], errors='coerce')\n",
    "df = df.dropna(subset=['dislikes'])\n",
    "df['dislikes']= df['dislikes'].astype(int)"
   ]
  },
  {
   "cell_type": "code",
   "execution_count": 26,
   "metadata": {},
   "outputs": [],
   "source": [
    "df['comment_count'] = pd.to_numeric(df['comment_count'], errors='coerce')\n",
    "df = df.dropna(subset=['comment_count'])\n",
    "df['comment_count']= df['comment_count'].astype(int)"
   ]
  },
  {
   "cell_type": "markdown",
   "metadata": {},
   "source": [
    "## tranform likes comments count into log"
   ]
  },
  {
   "cell_type": "code",
   "execution_count": 30,
   "metadata": {},
   "outputs": [],
   "source": [
    "df['likes_log'] = np.log(df['likes'] + 1)\n",
    "df['views_log'] = np.log(df['views'] + 1)\n",
    "df['dislikes_log'] = np.log(df['dislikes'] + 1)\n",
    "df['comment_log'] = np.log(df['comment_count'] + 1)\n"
   ]
  },
  {
   "cell_type": "code",
   "execution_count": 192,
   "metadata": {},
   "outputs": [
    {
     "data": {
      "image/png": "[encoded data removed]",
      "text/plain": [
       "<Figure size 1296x432 with 4 Axes>"
      ]
     },
     "metadata": {
      "needs_background": "light"
     },
     "output_type": "display_data"
    }
   ],
   "source": [
    "plt.figure(figsize = (18,6))\n",
    "\n",
    "plt.subplot(221)\n",
    "g1 = sns.distplot(df['views'])\n",
    "g1.set_title(\"Views Distribution\", fontsize=16)\n",
    "\n",
    "plt.subplot(224)\n",
    "g2 = sns.distplot(df['likes'],color='lightblue')\n",
    "g2.set_title('Likes Distribution', fontsize=16)\n",
    "\n",
    "plt.subplot(223)\n",
    "g3 = sns.distplot(df['dislikes'], color='pink')\n",
    "g3.set_title(\"Dislikes Distribution\", fontsize=16)\n",
    "\n",
    "plt.subplot(222)\n",
    "g4 = sns.distplot(df['comment_count'], color='purple')\n",
    "g4.set_title(\"Comments Distribution\", fontsize=16)\n",
    "\n",
    "plt.subplots_adjust(wspace = 0.2, hspace = 0.4,top = 0.9)\n",
    "\n",
    "plt.show()"
   ]
  },
  {
   "cell_type": "code",
   "execution_count": 191,
   "metadata": {
    "scrolled": false
   },
   "outputs": [
    {
     "data": {
      "image/png": "[encoded data removed]",
      "text/plain": [
       "<Figure size 1296x432 with 4 Axes>"
      ]
     },
     "metadata": {
      "needs_background": "light"
     },
     "output_type": "display_data"
    }
   ],
   "source": [
    "plt.figure(figsize = (18,6))\n",
    "\n",
    "plt.subplot(221)\n",
    "g1 = sns.distplot(df['views_log'])\n",
    "g1.set_title(\"Logged Views Distribution\", fontsize=16)\n",
    "\n",
    "plt.subplot(224)\n",
    "g2 = sns.distplot(df['likes_log'],color='lightblue')\n",
    "g2.set_title('Logged Likes Distribution', fontsize=16)\n",
    "\n",
    "plt.subplot(223)\n",
    "g3 = sns.distplot(df['dislikes_log'], color='pink')\n",
    "g3.set_title(\"Logged Dislikes Distribution\", fontsize=16)\n",
    "\n",
    "plt.subplot(222)\n",
    "g4 = sns.distplot(df['comment_log'], color='purple')\n",
    "g4.set_title(\"Logged Comments Distribution\", fontsize=16)\n",
    "\n",
    "plt.subplots_adjust(wspace = 0.2, hspace = 0.4,top = 0.9)\n",
    "\n",
    "plt.show()"
   ]
  },
  {
   "cell_type": "code",
   "execution_count": 198,
   "metadata": {},
   "outputs": [
    {
     "data": {
      "image/png": "[encoded data removed]",
      "text/plain": [
       "<Figure size 1008x432 with 1 Axes>"
      ]
     },
     "metadata": {
      "needs_background": "light"
     },
     "output_type": "display_data"
    }
   ],
   "source": [
    "plt.figure(figsize = (14,6))\n",
    "\n",
    "g = sns.boxplot(x='category_name', y='likes_log', data=df, palette=\"Set2\")\n",
    "g.set_xticklabels(g.get_xticklabels(),rotation=30)\n",
    "g.set_title(\"Likes Distribuition by Category Names \", fontsize=15)\n",
    "g.set_xlabel(\"\", fontsize=15)\n",
    "g.set_ylabel(\"Likes(log)\", fontsize=15)\n",
    "plt.show()\n"
   ]
  },
  {
   "cell_type": "code",
   "execution_count": 199,
   "metadata": {},
   "outputs": [
    {
     "data": {
      "text/plain": [
       "(40861, 17)"
      ]
     },
     "execution_count": 199,
     "metadata": {},
     "output_type": "execute_result"
    }
   ],
   "source": [
    "df.shape\n"
   ]
  },
  {
   "cell_type": "code",
   "execution_count": 200,
   "metadata": {},
   "outputs": [],
   "source": [
    "#Word count in each comment:\n",
    "df['title_wordcnt']=df[\"title\"].apply(lambda x: len(str(x).split()))\n",
    "df['tag_word_count']=df[\"tags\"].apply(lambda x: len(str(x).split()))\n",
    "\n",
    "#Unique word count\n",
    "df['title_uniquewordcnt']=df[\"title\"].apply(lambda x: len(set(str(x).split())))\n",
    "df['tag_uniquewordcnt']=df[\"tags\"].apply(lambda x: len(set(str(x).split())))\n",
    "\n",
    "#Letter count\n",
    "df['title_lettercnt']=df[\"title\"].apply(lambda x: len(str(x)))\n",
    "df['tag_lettercnt']=df[\"tags\"].apply(lambda x: len(str(x)))\n",
    "\n",
    "#Average length of the words\n",
    "df[\"title_avg_lenword\"] = df[\"title\"].apply(lambda x: np.mean([len(w) for w in str(x).split()]))\n",
    "df[\"tag_avg_lenword\"] = df[\"tags\"].apply(lambda x: np.mean([len(w) for w in str(x).split()]))"
   ]
  },
  {
   "cell_type": "code",
   "execution_count": 201,
   "metadata": {},
   "outputs": [],
   "source": [
    "df.to_csv('youtubedatafinal.csv')"
   ]
  },
  {
   "cell_type": "markdown",
   "metadata": {},
   "source": [
    "# Text Processing of the titles"
   ]
  },
  {
   "cell_type": "code",
   "execution_count": 134,
   "metadata": {},
   "outputs": [],
   "source": [
    "def preprocess_text(text):\n",
    "    text = re.sub('((www\\.[^\\s]+)|(https?://[^\\s]+))','URL', text)\n",
    "    text = re.sub('@[^\\s]+','USER', text)\n",
    "    text = text.lower().replace(\"ё\", \"е\")\n",
    "    text = re.sub('[^a-zA-Zа-яА-Я1-9]+', ' ', text)\n",
    "    text = re.sub(' +',' ', text)\n",
    "    return text.strip()\n",
    "clean_sentences = [preprocess_text(t) for t in df['title']]\n"
   ]
  },
  {
   "cell_type": "code",
   "execution_count": 150,
   "metadata": {},
   "outputs": [
    {
     "data": {
      "text/plain": [
       "['we', 'want', 'to', 'talk', 'about', 'our', 'marriage']"
      ]
     },
     "execution_count": 150,
     "metadata": {},
     "output_type": "execute_result"
    }
   ],
   "source": [
    "clean_sentences[0].split()"
   ]
  },
  {
   "cell_type": "code",
   "execution_count": 153,
   "metadata": {},
   "outputs": [],
   "source": [
    "cleaned_sentences = []\n",
    "for words in clean_sentences:\n",
    "    word = words.split()\n",
    "    allowed_words = []\n",
    "    for w in word:\n",
    "        if w in stop_words:\n",
    "            continue\n",
    "        allowed_words.append(w)\n",
    "    cleaned_sentences.append(' '.join(allowed_words))\n",
    "    "
   ]
  },
  {
   "cell_type": "code",
   "execution_count": 155,
   "metadata": {},
   "outputs": [],
   "source": [
    "vec = CountVectorizer()\n",
    "X = vec.fit_transform(cleaned_sentences)\n",
    "dffeatures = pd.DataFrame(X.toarray(), columns=vec.get_feature_names())"
   ]
  },
  {
   "cell_type": "code",
   "execution_count": 76,
   "metadata": {},
   "outputs": [],
   "source": [
    "from sklearn.feature_extraction.text import TfidfVectorizer"
   ]
  },
  {
   "cell_type": "code",
   "execution_count": 157,
   "metadata": {},
   "outputs": [],
   "source": [
    "tfidf = TfidfVectorizer()"
   ]
  },
  {
   "cell_type": "code",
   "execution_count": 159,
   "metadata": {},
   "outputs": [],
   "source": [
    "response = tfidf.fit_transform(cleaned_sentences)"
   ]
  },
  {
   "cell_type": "code",
   "execution_count": 160,
   "metadata": {},
   "outputs": [],
   "source": [
    "tfidf_df = pd.DataFrame(response.toarray(), columns=tfidf.get_feature_names())"
   ]
  },
  {
   "cell_type": "code",
   "execution_count": 161,
   "metadata": {},
   "outputs": [
    {
     "data": {
      "text/html": [
       "<div>\n",
       "<style scoped>\n",
       "    .dataframe tbody tr th:only-of-type {\n",
       "        vertical-align: middle;\n",
       "    }\n",
       "\n",
       "    .dataframe tbody tr th {\n",
       "        vertical-align: top;\n",
       "    }\n",
       "\n",
       "    .dataframe thead th {\n",
       "        text-align: right;\n",
       "    }\n",
       "</style>\n",
       "<table border=\"1\" class=\"dataframe\">\n",
       "  <thead>\n",
       "    <tr style=\"text-align: right;\">\n",
       "      <th></th>\n",
       "      <th>11</th>\n",
       "      <th>111</th>\n",
       "      <th>11foot8</th>\n",
       "      <th>12</th>\n",
       "      <th>1211</th>\n",
       "      <th>1214</th>\n",
       "      <th>122</th>\n",
       "      <th>1224</th>\n",
       "      <th>125</th>\n",
       "      <th>126p</th>\n",
       "      <th>...</th>\n",
       "      <th>одразу</th>\n",
       "      <th>олигархи</th>\n",
       "      <th>охотница</th>\n",
       "      <th>разоблачает</th>\n",
       "      <th>разошлись</th>\n",
       "      <th>сhat</th>\n",
       "      <th>села</th>\n",
       "      <th>сход</th>\n",
       "      <th>укра</th>\n",
       "      <th>яхты</th>\n",
       "    </tr>\n",
       "  </thead>\n",
       "  <tbody>\n",
       "    <tr>\n",
       "      <td>0</td>\n",
       "      <td>0.0</td>\n",
       "      <td>0.0</td>\n",
       "      <td>0.0</td>\n",
       "      <td>0.0</td>\n",
       "      <td>0.0</td>\n",
       "      <td>0.0</td>\n",
       "      <td>0.0</td>\n",
       "      <td>0.0</td>\n",
       "      <td>0.0</td>\n",
       "      <td>0.0</td>\n",
       "      <td>...</td>\n",
       "      <td>0.0</td>\n",
       "      <td>0.0</td>\n",
       "      <td>0.0</td>\n",
       "      <td>0.0</td>\n",
       "      <td>0.0</td>\n",
       "      <td>0.0</td>\n",
       "      <td>0.0</td>\n",
       "      <td>0.0</td>\n",
       "      <td>0.0</td>\n",
       "      <td>0.0</td>\n",
       "    </tr>\n",
       "    <tr>\n",
       "      <td>1</td>\n",
       "      <td>0.0</td>\n",
       "      <td>0.0</td>\n",
       "      <td>0.0</td>\n",
       "      <td>0.0</td>\n",
       "      <td>0.0</td>\n",
       "      <td>0.0</td>\n",
       "      <td>0.0</td>\n",
       "      <td>0.0</td>\n",
       "      <td>0.0</td>\n",
       "      <td>0.0</td>\n",
       "      <td>...</td>\n",
       "      <td>0.0</td>\n",
       "      <td>0.0</td>\n",
       "      <td>0.0</td>\n",
       "      <td>0.0</td>\n",
       "      <td>0.0</td>\n",
       "      <td>0.0</td>\n",
       "      <td>0.0</td>\n",
       "      <td>0.0</td>\n",
       "      <td>0.0</td>\n",
       "      <td>0.0</td>\n",
       "    </tr>\n",
       "    <tr>\n",
       "      <td>2</td>\n",
       "      <td>0.0</td>\n",
       "      <td>0.0</td>\n",
       "      <td>0.0</td>\n",
       "      <td>0.0</td>\n",
       "      <td>0.0</td>\n",
       "      <td>0.0</td>\n",
       "      <td>0.0</td>\n",
       "      <td>0.0</td>\n",
       "      <td>0.0</td>\n",
       "      <td>0.0</td>\n",
       "      <td>...</td>\n",
       "      <td>0.0</td>\n",
       "      <td>0.0</td>\n",
       "      <td>0.0</td>\n",
       "      <td>0.0</td>\n",
       "      <td>0.0</td>\n",
       "      <td>0.0</td>\n",
       "      <td>0.0</td>\n",
       "      <td>0.0</td>\n",
       "      <td>0.0</td>\n",
       "      <td>0.0</td>\n",
       "    </tr>\n",
       "    <tr>\n",
       "      <td>3</td>\n",
       "      <td>0.0</td>\n",
       "      <td>0.0</td>\n",
       "      <td>0.0</td>\n",
       "      <td>0.0</td>\n",
       "      <td>0.0</td>\n",
       "      <td>0.0</td>\n",
       "      <td>0.0</td>\n",
       "      <td>0.0</td>\n",
       "      <td>0.0</td>\n",
       "      <td>0.0</td>\n",
       "      <td>...</td>\n",
       "      <td>0.0</td>\n",
       "      <td>0.0</td>\n",
       "      <td>0.0</td>\n",
       "      <td>0.0</td>\n",
       "      <td>0.0</td>\n",
       "      <td>0.0</td>\n",
       "      <td>0.0</td>\n",
       "      <td>0.0</td>\n",
       "      <td>0.0</td>\n",
       "      <td>0.0</td>\n",
       "    </tr>\n",
       "    <tr>\n",
       "      <td>4</td>\n",
       "      <td>0.0</td>\n",
       "      <td>0.0</td>\n",
       "      <td>0.0</td>\n",
       "      <td>0.0</td>\n",
       "      <td>0.0</td>\n",
       "      <td>0.0</td>\n",
       "      <td>0.0</td>\n",
       "      <td>0.0</td>\n",
       "      <td>0.0</td>\n",
       "      <td>0.0</td>\n",
       "      <td>...</td>\n",
       "      <td>0.0</td>\n",
       "      <td>0.0</td>\n",
       "      <td>0.0</td>\n",
       "      <td>0.0</td>\n",
       "      <td>0.0</td>\n",
       "      <td>0.0</td>\n",
       "      <td>0.0</td>\n",
       "      <td>0.0</td>\n",
       "      <td>0.0</td>\n",
       "      <td>0.0</td>\n",
       "    </tr>\n",
       "  </tbody>\n",
       "</table>\n",
       "<p>5 rows × 9961 columns</p>\n",
       "</div>"
      ],
      "text/plain": [
       "    11  111  11foot8   12  1211  1214  122  1224  125  126p  ...  одразу  \\\n",
       "0  0.0  0.0      0.0  0.0   0.0   0.0  0.0   0.0  0.0   0.0  ...     0.0   \n",
       "1  0.0  0.0      0.0  0.0   0.0   0.0  0.0   0.0  0.0   0.0  ...     0.0   \n",
       "2  0.0  0.0      0.0  0.0   0.0   0.0  0.0   0.0  0.0   0.0  ...     0.0   \n",
       "3  0.0  0.0      0.0  0.0   0.0   0.0  0.0   0.0  0.0   0.0  ...     0.0   \n",
       "4  0.0  0.0      0.0  0.0   0.0   0.0  0.0   0.0  0.0   0.0  ...     0.0   \n",
       "\n",
       "   олигархи  охотница  разоблачает  разошлись  сhat  села  сход  укра  яхты  \n",
       "0       0.0       0.0          0.0        0.0   0.0   0.0   0.0   0.0   0.0  \n",
       "1       0.0       0.0          0.0        0.0   0.0   0.0   0.0   0.0   0.0  \n",
       "2       0.0       0.0          0.0        0.0   0.0   0.0   0.0   0.0   0.0  \n",
       "3       0.0       0.0          0.0        0.0   0.0   0.0   0.0   0.0   0.0  \n",
       "4       0.0       0.0          0.0        0.0   0.0   0.0   0.0   0.0   0.0  \n",
       "\n",
       "[5 rows x 9961 columns]"
      ]
     },
     "execution_count": 161,
     "metadata": {},
     "output_type": "execute_result"
    }
   ],
   "source": [
    "tfidf_df.head()"
   ]
  },
  {
   "cell_type": "code",
   "execution_count": 162,
   "metadata": {},
   "outputs": [],
   "source": [
    "unique_words = list(dffeatures.columns.values)"
   ]
  },
  {
   "cell_type": "code",
   "execution_count": 163,
   "metadata": {},
   "outputs": [],
   "source": [
    "word_sums = [(word, dffeatures[word].sum()) for word in unique_words]"
   ]
  },
  {
   "cell_type": "code",
   "execution_count": 164,
   "metadata": {},
   "outputs": [],
   "source": [
    "from operator import itemgetter\n",
    "word_sums.sort(key=itemgetter(1), reverse=True)"
   ]
  },
  {
   "cell_type": "code",
   "execution_count": 203,
   "metadata": {},
   "outputs": [
    {
     "data": {
      "text/plain": [
       "('video', 2864)"
      ]
     },
     "execution_count": 203,
     "metadata": {},
     "output_type": "execute_result"
    }
   ],
   "source": [
    "word_sums[1]"
   ]
  },
  {
   "cell_type": "code",
   "execution_count": 166,
   "metadata": {},
   "outputs": [
    {
     "data": {
      "text/plain": [
       "364"
      ]
     },
     "execution_count": 166,
     "metadata": {},
     "output_type": "execute_result"
    }
   ],
   "source": [
    "relevant = []\n",
    "for word in unique_words:\n",
    "    if tfidf_df[word].mean() > 0.001:\n",
    "        relevant.append(tfidf_df[word])\n",
    "len(relevant)"
   ]
  },
  {
   "cell_type": "code",
   "execution_count": 167,
   "metadata": {},
   "outputs": [
    {
     "data": {
      "text/html": [
       "<div>\n",
       "<style scoped>\n",
       "    .dataframe tbody tr th:only-of-type {\n",
       "        vertical-align: middle;\n",
       "    }\n",
       "\n",
       "    .dataframe tbody tr th {\n",
       "        vertical-align: top;\n",
       "    }\n",
       "\n",
       "    .dataframe thead th {\n",
       "        text-align: right;\n",
       "    }\n",
       "</style>\n",
       "<table border=\"1\" class=\"dataframe\">\n",
       "  <thead>\n",
       "    <tr style=\"text-align: right;\">\n",
       "      <th></th>\n",
       "      <th>11</th>\n",
       "      <th>13</th>\n",
       "      <th>14</th>\n",
       "      <th>15</th>\n",
       "      <th>16</th>\n",
       "      <th>17</th>\n",
       "      <th>18</th>\n",
       "      <th>24</th>\n",
       "      <th>4k</th>\n",
       "      <th>acoustic</th>\n",
       "      <th>...</th>\n",
       "      <th>white</th>\n",
       "      <th>wild</th>\n",
       "      <th>wired</th>\n",
       "      <th>without</th>\n",
       "      <th>world</th>\n",
       "      <th>wrong</th>\n",
       "      <th>year</th>\n",
       "      <th>years</th>\n",
       "      <th>young</th>\n",
       "      <th>youtube</th>\n",
       "    </tr>\n",
       "  </thead>\n",
       "  <tbody>\n",
       "    <tr>\n",
       "      <td>0</td>\n",
       "      <td>0.0</td>\n",
       "      <td>0.0</td>\n",
       "      <td>0.0</td>\n",
       "      <td>0.0</td>\n",
       "      <td>0.0</td>\n",
       "      <td>0.0</td>\n",
       "      <td>0.0</td>\n",
       "      <td>0.0</td>\n",
       "      <td>0.0</td>\n",
       "      <td>0.0</td>\n",
       "      <td>...</td>\n",
       "      <td>0.0</td>\n",
       "      <td>0.0</td>\n",
       "      <td>0.0</td>\n",
       "      <td>0.0</td>\n",
       "      <td>0.0</td>\n",
       "      <td>0.0</td>\n",
       "      <td>0.0</td>\n",
       "      <td>0.0</td>\n",
       "      <td>0.0</td>\n",
       "      <td>0.0</td>\n",
       "    </tr>\n",
       "    <tr>\n",
       "      <td>1</td>\n",
       "      <td>0.0</td>\n",
       "      <td>0.0</td>\n",
       "      <td>0.0</td>\n",
       "      <td>0.0</td>\n",
       "      <td>0.0</td>\n",
       "      <td>0.0</td>\n",
       "      <td>0.0</td>\n",
       "      <td>0.0</td>\n",
       "      <td>0.0</td>\n",
       "      <td>0.0</td>\n",
       "      <td>...</td>\n",
       "      <td>0.0</td>\n",
       "      <td>0.0</td>\n",
       "      <td>0.0</td>\n",
       "      <td>0.0</td>\n",
       "      <td>0.0</td>\n",
       "      <td>0.0</td>\n",
       "      <td>0.0</td>\n",
       "      <td>0.0</td>\n",
       "      <td>0.0</td>\n",
       "      <td>0.0</td>\n",
       "    </tr>\n",
       "    <tr>\n",
       "      <td>2</td>\n",
       "      <td>0.0</td>\n",
       "      <td>0.0</td>\n",
       "      <td>0.0</td>\n",
       "      <td>0.0</td>\n",
       "      <td>0.0</td>\n",
       "      <td>0.0</td>\n",
       "      <td>0.0</td>\n",
       "      <td>0.0</td>\n",
       "      <td>0.0</td>\n",
       "      <td>0.0</td>\n",
       "      <td>...</td>\n",
       "      <td>0.0</td>\n",
       "      <td>0.0</td>\n",
       "      <td>0.0</td>\n",
       "      <td>0.0</td>\n",
       "      <td>0.0</td>\n",
       "      <td>0.0</td>\n",
       "      <td>0.0</td>\n",
       "      <td>0.0</td>\n",
       "      <td>0.0</td>\n",
       "      <td>0.0</td>\n",
       "    </tr>\n",
       "    <tr>\n",
       "      <td>3</td>\n",
       "      <td>0.0</td>\n",
       "      <td>0.0</td>\n",
       "      <td>0.0</td>\n",
       "      <td>0.0</td>\n",
       "      <td>0.0</td>\n",
       "      <td>0.0</td>\n",
       "      <td>0.0</td>\n",
       "      <td>0.0</td>\n",
       "      <td>0.0</td>\n",
       "      <td>0.0</td>\n",
       "      <td>...</td>\n",
       "      <td>0.0</td>\n",
       "      <td>0.0</td>\n",
       "      <td>0.0</td>\n",
       "      <td>0.0</td>\n",
       "      <td>0.0</td>\n",
       "      <td>0.0</td>\n",
       "      <td>0.0</td>\n",
       "      <td>0.0</td>\n",
       "      <td>0.0</td>\n",
       "      <td>0.0</td>\n",
       "    </tr>\n",
       "    <tr>\n",
       "      <td>4</td>\n",
       "      <td>0.0</td>\n",
       "      <td>0.0</td>\n",
       "      <td>0.0</td>\n",
       "      <td>0.0</td>\n",
       "      <td>0.0</td>\n",
       "      <td>0.0</td>\n",
       "      <td>0.0</td>\n",
       "      <td>0.0</td>\n",
       "      <td>0.0</td>\n",
       "      <td>0.0</td>\n",
       "      <td>...</td>\n",
       "      <td>0.0</td>\n",
       "      <td>0.0</td>\n",
       "      <td>0.0</td>\n",
       "      <td>0.0</td>\n",
       "      <td>0.0</td>\n",
       "      <td>0.0</td>\n",
       "      <td>0.0</td>\n",
       "      <td>0.0</td>\n",
       "      <td>0.0</td>\n",
       "      <td>0.0</td>\n",
       "    </tr>\n",
       "  </tbody>\n",
       "</table>\n",
       "<p>5 rows × 364 columns</p>\n",
       "</div>"
      ],
      "text/plain": [
       "    11   13   14   15   16   17   18   24   4k  acoustic  ...  white  wild  \\\n",
       "0  0.0  0.0  0.0  0.0  0.0  0.0  0.0  0.0  0.0       0.0  ...    0.0   0.0   \n",
       "1  0.0  0.0  0.0  0.0  0.0  0.0  0.0  0.0  0.0       0.0  ...    0.0   0.0   \n",
       "2  0.0  0.0  0.0  0.0  0.0  0.0  0.0  0.0  0.0       0.0  ...    0.0   0.0   \n",
       "3  0.0  0.0  0.0  0.0  0.0  0.0  0.0  0.0  0.0       0.0  ...    0.0   0.0   \n",
       "4  0.0  0.0  0.0  0.0  0.0  0.0  0.0  0.0  0.0       0.0  ...    0.0   0.0   \n",
       "\n",
       "   wired  without  world  wrong  year  years  young  youtube  \n",
       "0    0.0      0.0    0.0    0.0   0.0    0.0    0.0      0.0  \n",
       "1    0.0      0.0    0.0    0.0   0.0    0.0    0.0      0.0  \n",
       "2    0.0      0.0    0.0    0.0   0.0    0.0    0.0      0.0  \n",
       "3    0.0      0.0    0.0    0.0   0.0    0.0    0.0      0.0  \n",
       "4    0.0      0.0    0.0    0.0   0.0    0.0    0.0      0.0  \n",
       "\n",
       "[5 rows x 364 columns]"
      ]
     },
     "execution_count": 167,
     "metadata": {},
     "output_type": "execute_result"
    }
   ],
   "source": [
    "relevant_df = pd.DataFrame(relevant).transpose()\n",
    "relevant_df.head()"
   ]
  },
  {
   "cell_type": "markdown",
   "metadata": {},
   "source": [
    "## get rid of the numbers and youtube"
   ]
  },
  {
   "cell_type": "code",
   "execution_count": 186,
   "metadata": {},
   "outputs": [],
   "source": [
    "relevant_df = relevant_df.iloc[:,9:363]"
   ]
  },
  {
   "cell_type": "code",
   "execution_count": 187,
   "metadata": {},
   "outputs": [],
   "source": [
    "relevant_df.to_csv('tokens.csv')# tokens as the features"
   ]
  }
 ],
 "metadata": {
  "kernelspec": {
   "display_name": "Python 3",
   "language": "python",
   "name": "python3"
  },
  "language_info": {
   "codemirror_mode": {
    "name": "ipython",
    "version": 3
   },
   "file_extension": ".py",
   "mimetype": "text/x-python",
   "name": "python",
   "nbconvert_exporter": "python",
   "pygments_lexer": "ipython3",
   "version": "3.7.1"
  }
 },
 "nbformat": 4,
 "nbformat_minor": 2
}
